{
 "cells": [
  {
   "cell_type": "markdown",
   "metadata": {},
   "source": [
    "Description:\n",
    "This notebook merges data from covid-19 open data and Nomis "
   ]
  },
  {
   "cell_type": "code",
   "execution_count": 1,
   "metadata": {},
   "outputs": [
    {
     "data": {
      "text/html": [
       "        <script type=\"text/javascript\">\n",
       "        window.PlotlyConfig = {MathJaxConfig: 'local'};\n",
       "        if (window.MathJax) {MathJax.Hub.Config({SVG: {font: \"STIX-Web\"}});}\n",
       "        if (typeof require !== 'undefined') {\n",
       "        require.undef(\"plotly\");\n",
       "        requirejs.config({\n",
       "            paths: {\n",
       "                'plotly': ['https://cdn.plot.ly/plotly-latest.min']\n",
       "            }\n",
       "        });\n",
       "        require(['plotly'], function(Plotly) {\n",
       "            window._Plotly = Plotly;\n",
       "        });\n",
       "        }\n",
       "        </script>\n",
       "        "
      ]
     },
     "metadata": {},
     "output_type": "display_data"
    },
    {
     "data": {
      "text/html": [
       "        <script type=\"text/javascript\">\n",
       "        window.PlotlyConfig = {MathJaxConfig: 'local'};\n",
       "        if (window.MathJax) {MathJax.Hub.Config({SVG: {font: \"STIX-Web\"}});}\n",
       "        if (typeof require !== 'undefined') {\n",
       "        require.undef(\"plotly\");\n",
       "        requirejs.config({\n",
       "            paths: {\n",
       "                'plotly': ['https://cdn.plot.ly/plotly-latest.min']\n",
       "            }\n",
       "        });\n",
       "        require(['plotly'], function(Plotly) {\n",
       "            window._Plotly = Plotly;\n",
       "        });\n",
       "        }\n",
       "        </script>\n",
       "        "
      ]
     },
     "metadata": {},
     "output_type": "display_data"
    }
   ],
   "source": [
    "#importing necessary modules\n",
    "import pandas as pd\n",
    "pd.options.display.float_format = '{:,.2f}'.format\n",
    "\n",
    "#plotting\n",
    "%matplotlib inline\n",
    "import numpy as np\n",
    "import matplotlib.pyplot as plt\n",
    "import seaborn as sns; sns.set()\n",
    "\n",
    "import cufflinks as cf\n",
    "from plotly.offline import init_notebook_mode\n",
    "init_notebook_mode(connected=True)\n",
    "cf.go_offline()\n",
    "cf.set_config_file(offline=False, world_readable=True)\n",
    "\n",
    "import os"
   ]
  },
  {
   "cell_type": "markdown",
   "metadata": {},
   "source": [
    "# Merging all datasets into one"
   ]
  },
  {
   "cell_type": "markdown",
   "metadata": {},
   "source": [
    "## Google mobility"
   ]
  },
  {
   "cell_type": "code",
   "execution_count": null,
   "metadata": {},
   "outputs": [],
   "source": [
    "#downloading the data\n",
    "geography = pd.read_csv(r\"https://storage.googleapis.com/covid19-open-data/v2/geography.csv\")\n",
    "geography.to_pickle(r'data/geography.pkl')\n",
    "\n",
    "mobility = pd.read_csv(r\"https://storage.googleapis.com/covid19-open-data/v2/mobility.csv\")\n",
    "mobility.to_pickle(r'data/mobility.pkl')\n",
    "\n",
    "weather = pd.read_csv(r\"https://storage.googleapis.com/covid19-open-data/v2/weather.csv\")\n",
    "weather.to_pickle(r'data/weather.pkl')"
   ]
  },
  {
   "cell_type": "code",
   "execution_count": 7,
   "metadata": {},
   "outputs": [],
   "source": [
    "def clean_df(df_name, feature_columns):\n",
    "    '''\n",
    "    function to clean csv file and select the columns used in the analysis\n",
    "    '''\n",
    "    df = pd.read_pickle(r'data/'+df_name)\n",
    "\n",
    "    df = df[(pd.notnull(df['key']))&(df['key'].str.contains('GB_ENG'))].copy()\n",
    "\n",
    "    df['date'] = pd.to_datetime(df['date'])\n",
    "    df = df[(df['date']>=pd.to_datetime('2020-03-25'))&(\\\n",
    "                df['date']<=pd.to_datetime('2020-04-25'))].copy()\n",
    "    df = df.groupby(['key'])[feature_columns].mean()\n",
    "    return df.reset_index()"
   ]
  },
  {
   "cell_type": "code",
   "execution_count": 8,
   "metadata": {},
   "outputs": [],
   "source": [
    "df_mobility = clean_df(r'mobility.pkl',['mobility_retail_and_recreation',\n",
    "       'mobility_grocery_and_pharmacy', 'mobility_parks',\n",
    "       'mobility_transit_stations', 'mobility_workplaces',\n",
    "       'mobility_residential'])\n",
    "df_weather = clean_df(r'weather.pkl',['average_temperature','rainfall'])\n",
    "\n",
    "df_geography = pd.read_pickle(r'data/geography.pkl')\n",
    "df_geography = df_geography[(pd.notnull(df_geography['key']))&(df_geography['key'].str.contains('GB_ENG'))].copy()\n",
    "df_geography = df_geography[['key','latitude','longitude','area']].copy()\n",
    "df_geography = df_geography.rename(columns = {'area':'surface'})"
   ]
  },
  {
   "cell_type": "code",
   "execution_count": 9,
   "metadata": {},
   "outputs": [],
   "source": [
    "df_google = pd.merge(df_mobility,df_weather, on = 'key')\n",
    "df_google = pd.merge(df_google,df_geography, on = 'key')"
   ]
  },
  {
   "cell_type": "markdown",
   "metadata": {},
   "source": [
    "## Workforce by sector and Age structure from Nomis"
   ]
  },
  {
   "cell_type": "markdown",
   "metadata": {},
   "source": [
    "### Workforce"
   ]
  },
  {
   "cell_type": "code",
   "execution_count": 10,
   "metadata": {},
   "outputs": [],
   "source": [
    "#Nomis\n",
    "xl = pd.ExcelFile(r'data/nomis_2021_01_01_232934.xlsx')\n",
    "df = xl.parse('Data', skiprows=7, usecols=(0,2,3,7,11,15,19,23,27,31,35,39))\n",
    "df.columns = ['area','workforce','managers','professional','associate','administrative','skilled_trades',\n",
    "             'caring','sales','process','elementary']\n",
    "df = df[pd.notnull(df['area'])].copy()\n",
    "df = df[df['area'].str.contains('lacu:')].copy()\n",
    "df['area'] = df['area'].apply(lambda x: str(x).split(':')[1])\n",
    "df = df.set_index('area')\n",
    "df = df.apply(pd.to_numeric, errors='coerce')\n",
    "df_workforce = df.reset_index()"
   ]
  },
  {
   "cell_type": "markdown",
   "metadata": {},
   "source": [
    "### Age Distribution"
   ]
  },
  {
   "cell_type": "code",
   "execution_count": 11,
   "metadata": {},
   "outputs": [],
   "source": [
    "xl = pd.ExcelFile(r'data/nomis_2021_01_02_080844.xlsx')\n",
    "df = xl.parse('Data',skiprows=8)\n",
    "column_names = [x for x in df.columns[1:] if 'Unnamed' not in x]\n",
    "df = xl.parse('Data',skiprows=9)\n",
    "df = df[[x for x in df.columns if 'number' not in x]].copy()\n",
    "df = df.iloc[:185].copy()\n",
    "df.columns = ['area','area_code']+column_names\n",
    "df = df.set_index(['area','area_code'])\n",
    "df = df.apply(pd.to_numeric, errors='coerce')\n",
    "df_age = df.reset_index()\n",
    "df_age = df_age[pd.notnull(df_age['All usual residents'])].copy()\n",
    "df_age['key']  = df_age['area_code'].apply(lambda x: 'GB_ENG_'+x)\n",
    "\n",
    "df_age['share_65'] = df_age[['Age 65 to 74', 'Age 75 to 84', 'Age 85 to 89',\n",
    "       'Age 90 and over']].sum(axis = 1)"
   ]
  },
  {
   "cell_type": "code",
   "execution_count": 12,
   "metadata": {},
   "outputs": [],
   "source": [
    "df_population = xl.parse('Data',skiprows=9)\n",
    "df_population = df_population[[x for x in df_population.columns if ('number' in x) or ('Unnamed' in x)]].copy()\n",
    "df_population = df_population.iloc[:185].copy()\n",
    "df_population.columns = ['area','area_code']+column_names\n",
    "df_population = df_population.rename(columns = {'All usual residents':'population'})\n",
    "df_age = pd.merge(df_age, df_population[['area','population']], on='area', how='left')"
   ]
  },
  {
   "cell_type": "markdown",
   "metadata": {},
   "source": [
    "## Merging"
   ]
  },
  {
   "cell_type": "code",
   "execution_count": 13,
   "metadata": {},
   "outputs": [],
   "source": [
    "df = pd.merge(df_workforce,df_age, on = 'area')\n",
    "df = pd.merge(df,df_google, on = 'key')\n",
    "df['population_density'] = df['population']/df['surface']\n",
    "df = df.dropna()\n",
    "df.to_pickle(r'data/df.pkl')"
   ]
  },
  {
   "cell_type": "code",
   "execution_count": 14,
   "metadata": {},
   "outputs": [
    {
     "data": {
      "text/plain": [
       "103"
      ]
     },
     "execution_count": 14,
     "metadata": {},
     "output_type": "execute_result"
    }
   ],
   "source": [
    "df['area'].nunique()"
   ]
  },
  {
   "cell_type": "code",
   "execution_count": 16,
   "metadata": {},
   "outputs": [
    {
     "data": {
      "text/plain": [
       "103"
      ]
     },
     "execution_count": 16,
     "metadata": {},
     "output_type": "execute_result"
    }
   ],
   "source": [
    "df.shape[0]"
   ]
  }
 ],
 "metadata": {
  "kernelspec": {
   "display_name": "Python 3",
   "language": "python",
   "name": "python3"
  },
  "language_info": {
   "codemirror_mode": {
    "name": "ipython",
    "version": 3
   },
   "file_extension": ".py",
   "mimetype": "text/x-python",
   "name": "python",
   "nbconvert_exporter": "python",
   "pygments_lexer": "ipython3",
   "version": "3.7.1"
  },
  "toc": {
   "base_numbering": 1,
   "nav_menu": {},
   "number_sections": true,
   "sideBar": true,
   "skip_h1_title": false,
   "title_cell": "Table of Contents",
   "title_sidebar": "Contents",
   "toc_cell": false,
   "toc_position": {},
   "toc_section_display": true,
   "toc_window_display": false
  }
 },
 "nbformat": 4,
 "nbformat_minor": 2
}
