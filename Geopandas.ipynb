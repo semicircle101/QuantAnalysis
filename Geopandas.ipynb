{
 "cells": [
  {
   "cell_type": "markdown",
   "metadata": {},
   "source": [
    "Description:\n",
    "This notebook contains code for making all maps used in the paper "
   ]
  },
  {
   "cell_type": "code",
   "execution_count": 1,
   "metadata": {},
   "outputs": [],
   "source": [
    "import pandas as pd\n",
    "import geopandas as gpd"
   ]
  },
  {
   "cell_type": "code",
   "execution_count": 2,
   "metadata": {},
   "outputs": [],
   "source": [
    "%matplotlib inline\n",
    "from matplotlib import pyplot as plt"
   ]
  },
  {
   "cell_type": "code",
   "execution_count": 3,
   "metadata": {},
   "outputs": [],
   "source": [
    "import contextily as ctx\n",
    "import matplotlib.pyplot as plt\n",
    "from shapely.geometry import Point\n",
    "import geopandas as gpd\n",
    "import pandas as pd\n",
    "\n",
    "def add_basemap(ax, zoom, url='http://tile.stamen.com/terrain/tileZ/tileX/tileY.png'):\n",
    "    xmin, xmax, ymin, ymax = (-795771.9348711157, 383323.84439633973, 6408860.8275052495, 7538347.790310845)\n",
    "    #ax.axis()\n",
    "    basemap, extent = ctx.bounds2img(xmin, ymin, xmax, ymax, zoom=zoom, url=url)\n",
    "    ax.imshow(basemap, extent=extent, interpolation='bilinear')\n",
    "    # restore original x/y limits\n",
    "    ax.axis((xmin, xmax, ymin, ymax))"
   ]
  },
  {
   "cell_type": "markdown",
   "metadata": {},
   "source": [
    "# Share of professional occupations"
   ]
  },
  {
   "cell_type": "code",
   "execution_count": 4,
   "metadata": {},
   "outputs": [],
   "source": [
    "df = pd.read_pickle(r'data/df.pkl')"
   ]
  },
  {
   "cell_type": "code",
   "execution_count": null,
   "metadata": {},
   "outputs": [],
   "source": [
    "df['coords'] = list(zip(df.longitude, df.latitude))\n",
    "\n",
    "# ... turn them into geodataframe, and convert our\n",
    "# epsg into 3857, since web map tiles are typically\n",
    "# provided as such.\n",
    "geo_df = gpd.GeoDataFrame(\n",
    "    df, crs  ={'init': 'epsg:4326'},\n",
    "    geometry = df['coords'].apply(Point)\n",
    ").to_crs(epsg=3857)\n",
    "\n",
    "# ... and make the plot\n",
    "ax = geo_df.plot(\n",
    "    figsize= (10, 10),\n",
    "    alpha  = 1,\n",
    "    column = 'professional',\n",
    "    legend = True,\n",
    "    categorical = False\n",
    ")\n",
    "add_basemap(ax, zoom=8)\n",
    "ax.set_axis_off()\n",
    "plt.title('Occupational Structure')\n",
    "\n",
    "plt.show()"
   ]
  },
  {
   "cell_type": "markdown",
   "metadata": {},
   "source": [
    "# Clustering municipalities by mobility impact"
   ]
  },
  {
   "cell_type": "code",
   "execution_count": 6,
   "metadata": {},
   "outputs": [],
   "source": [
    "df = pd.read_pickle(r'data/clusters.pkl')"
   ]
  },
  {
   "cell_type": "code",
   "execution_count": null,
   "metadata": {},
   "outputs": [],
   "source": [
    "df['coords'] = list(zip(df.longitude, df.latitude))\n",
    "\n",
    "# ... turn them into geodataframe, and convert our\n",
    "# epsg into 3857, since web map tiles are typically\n",
    "# provided as such.\n",
    "geo_df = gpd.GeoDataFrame(\n",
    "    df, crs  ={'init': 'epsg:4326'},\n",
    "    geometry = df['coords'].apply(Point)\n",
    ").to_crs(epsg=3857)\n",
    "\n",
    "# ... and make the plot\n",
    "ax = geo_df.plot(\n",
    "    figsize= (10, 10),\n",
    "    alpha  = 1,\n",
    "    column = 'labels',\n",
    "    legend = True,\n",
    "    categorical = True\n",
    ")\n",
    "add_basemap(ax, zoom=8)\n",
    "ax.set_axis_off()\n",
    "plt.title('Mobility Impact')\n",
    "\n",
    "plt.show()"
   ]
  }
 ],
 "metadata": {
  "kernelspec": {
   "display_name": "Python 3",
   "language": "python",
   "name": "python3"
  },
  "language_info": {
   "codemirror_mode": {
    "name": "ipython",
    "version": 3
   },
   "file_extension": ".py",
   "mimetype": "text/x-python",
   "name": "python",
   "nbconvert_exporter": "python",
   "pygments_lexer": "ipython3",
   "version": "3.7.1"
  },
  "toc": {
   "base_numbering": 1,
   "nav_menu": {},
   "number_sections": true,
   "sideBar": true,
   "skip_h1_title": false,
   "title_cell": "Table of Contents",
   "title_sidebar": "Contents",
   "toc_cell": false,
   "toc_position": {},
   "toc_section_display": true,
   "toc_window_display": false
  }
 },
 "nbformat": 4,
 "nbformat_minor": 2
}
