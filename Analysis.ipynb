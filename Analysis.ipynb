{
 "cells": [
  {
   "cell_type": "markdown",
   "metadata": {},
   "source": [
    "Description:\n",
    "This notebook contains code for making all graphs and tables used in the paper, except for the maps, they are in Geopandas.ipynb "
   ]
  },
  {
   "cell_type": "code",
   "execution_count": 2,
   "metadata": {},
   "outputs": [
    {
     "data": {
      "text/html": [
       "        <script type=\"text/javascript\">\n",
       "        window.PlotlyConfig = {MathJaxConfig: 'local'};\n",
       "        if (window.MathJax) {MathJax.Hub.Config({SVG: {font: \"STIX-Web\"}});}\n",
       "        if (typeof require !== 'undefined') {\n",
       "        require.undef(\"plotly\");\n",
       "        requirejs.config({\n",
       "            paths: {\n",
       "                'plotly': ['https://cdn.plot.ly/plotly-latest.min']\n",
       "            }\n",
       "        });\n",
       "        require(['plotly'], function(Plotly) {\n",
       "            window._Plotly = Plotly;\n",
       "        });\n",
       "        }\n",
       "        </script>\n",
       "        "
      ]
     },
     "metadata": {},
     "output_type": "display_data"
    },
    {
     "data": {
      "text/html": [
       "        <script type=\"text/javascript\">\n",
       "        window.PlotlyConfig = {MathJaxConfig: 'local'};\n",
       "        if (window.MathJax) {MathJax.Hub.Config({SVG: {font: \"STIX-Web\"}});}\n",
       "        if (typeof require !== 'undefined') {\n",
       "        require.undef(\"plotly\");\n",
       "        requirejs.config({\n",
       "            paths: {\n",
       "                'plotly': ['https://cdn.plot.ly/plotly-latest.min']\n",
       "            }\n",
       "        });\n",
       "        require(['plotly'], function(Plotly) {\n",
       "            window._Plotly = Plotly;\n",
       "        });\n",
       "        }\n",
       "        </script>\n",
       "        "
      ]
     },
     "metadata": {},
     "output_type": "display_data"
    }
   ],
   "source": [
    "import pandas as pd\n",
    "pd.options.display.float_format = '{:,.2f}'.format\n",
    "\n",
    "#plotting\n",
    "%matplotlib inline\n",
    "import numpy as np\n",
    "import matplotlib.pyplot as plt\n",
    "import seaborn as sns; sns.set()\n",
    "\n",
    "#plotting\n",
    "import plotly\n",
    "from plotly.offline import download_plotlyjs, init_notebook_mode, plot, iplot\n",
    "import plotly.graph_objs as go\n",
    "import plotly.figure_factory as ff\n",
    "\n",
    "\n",
    "import cufflinks as cf\n",
    "init_notebook_mode(connected=True)\n",
    "cf.go_offline()\n",
    "cf.set_config_file(offline=False, world_readable=True)\n",
    "\n",
    "import os"
   ]
  },
  {
   "cell_type": "code",
   "execution_count": 3,
   "metadata": {},
   "outputs": [],
   "source": [
    "df = pd.read_pickle(r'data\\df.pkl')"
   ]
  },
  {
   "cell_type": "markdown",
   "metadata": {},
   "source": [
    "# Descriptive Statistics"
   ]
  },
  {
   "cell_type": "code",
   "execution_count": 4,
   "metadata": {},
   "outputs": [
    {
     "data": {
      "text/html": [
       "<div>\n",
       "<style scoped>\n",
       "    .dataframe tbody tr th:only-of-type {\n",
       "        vertical-align: middle;\n",
       "    }\n",
       "\n",
       "    .dataframe tbody tr th {\n",
       "        vertical-align: top;\n",
       "    }\n",
       "\n",
       "    .dataframe thead th {\n",
       "        text-align: right;\n",
       "    }\n",
       "</style>\n",
       "<table border=\"1\" class=\"dataframe\">\n",
       "  <thead>\n",
       "    <tr style=\"text-align: right;\">\n",
       "      <th></th>\n",
       "      <th>area</th>\n",
       "      <th>workforce</th>\n",
       "      <th>managers</th>\n",
       "      <th>professional</th>\n",
       "      <th>associate</th>\n",
       "      <th>administrative</th>\n",
       "      <th>skilled_trades</th>\n",
       "      <th>caring</th>\n",
       "      <th>sales</th>\n",
       "      <th>process</th>\n",
       "      <th>...</th>\n",
       "      <th>mobility_parks</th>\n",
       "      <th>mobility_transit_stations</th>\n",
       "      <th>mobility_workplaces</th>\n",
       "      <th>mobility_residential</th>\n",
       "      <th>average_temperature</th>\n",
       "      <th>rainfall</th>\n",
       "      <th>latitude</th>\n",
       "      <th>longitude</th>\n",
       "      <th>surface</th>\n",
       "      <th>population_density</th>\n",
       "    </tr>\n",
       "  </thead>\n",
       "  <tbody>\n",
       "    <tr>\n",
       "      <th>1</th>\n",
       "      <td>Derby</td>\n",
       "      <td>123,400.00</td>\n",
       "      <td>8.80</td>\n",
       "      <td>20.10</td>\n",
       "      <td>14.20</td>\n",
       "      <td>8.00</td>\n",
       "      <td>10.30</td>\n",
       "      <td>8.40</td>\n",
       "      <td>9.70</td>\n",
       "      <td>8.20</td>\n",
       "      <td>...</td>\n",
       "      <td>2.59</td>\n",
       "      <td>-77.50</td>\n",
       "      <td>-64.00</td>\n",
       "      <td>24.41</td>\n",
       "      <td>9.16</td>\n",
       "      <td>0.24</td>\n",
       "      <td>52.92</td>\n",
       "      <td>-1.47</td>\n",
       "      <td>78.00</td>\n",
       "      <td>3,189.13</td>\n",
       "    </tr>\n",
       "    <tr>\n",
       "      <th>2</th>\n",
       "      <td>Derbyshire</td>\n",
       "      <td>394,500.00</td>\n",
       "      <td>11.50</td>\n",
       "      <td>18.40</td>\n",
       "      <td>14.80</td>\n",
       "      <td>9.80</td>\n",
       "      <td>12.40</td>\n",
       "      <td>9.40</td>\n",
       "      <td>6.80</td>\n",
       "      <td>8.20</td>\n",
       "      <td>...</td>\n",
       "      <td>-13.97</td>\n",
       "      <td>-56.28</td>\n",
       "      <td>-62.69</td>\n",
       "      <td>23.56</td>\n",
       "      <td>9.07</td>\n",
       "      <td>0.18</td>\n",
       "      <td>53.10</td>\n",
       "      <td>-1.60</td>\n",
       "      <td>2,546.00</td>\n",
       "      <td>302.31</td>\n",
       "    </tr>\n",
       "  </tbody>\n",
       "</table>\n",
       "<p>2 rows × 44 columns</p>\n",
       "</div>"
      ],
      "text/plain": [
       "         area  workforce  managers  professional  associate  administrative  \\\n",
       "1       Derby 123,400.00      8.80         20.10      14.20            8.00   \n",
       "2  Derbyshire 394,500.00     11.50         18.40      14.80            9.80   \n",
       "\n",
       "   skilled_trades  caring  sales  process  ...  mobility_parks  \\\n",
       "1           10.30    8.40   9.70     8.20  ...            2.59   \n",
       "2           12.40    9.40   6.80     8.20  ...          -13.97   \n",
       "\n",
       "  mobility_transit_stations  mobility_workplaces  mobility_residential  \\\n",
       "1                    -77.50               -64.00                 24.41   \n",
       "2                    -56.28               -62.69                 23.56   \n",
       "\n",
       "   average_temperature  rainfall  latitude  longitude  surface  \\\n",
       "1                 9.16      0.24     52.92      -1.47    78.00   \n",
       "2                 9.07      0.18     53.10      -1.60 2,546.00   \n",
       "\n",
       "   population_density  \n",
       "1            3,189.13  \n",
       "2              302.31  \n",
       "\n",
       "[2 rows x 44 columns]"
      ]
     },
     "execution_count": 4,
     "metadata": {},
     "output_type": "execute_result"
    }
   ],
   "source": [
    "df.head(2)"
   ]
  },
  {
   "cell_type": "code",
   "execution_count": 5,
   "metadata": {},
   "outputs": [
    {
     "data": {
      "text/plain": [
       "Index(['area', 'workforce', 'managers', 'professional', 'associate',\n",
       "       'administrative', 'skilled_trades', 'caring', 'sales', 'process',\n",
       "       'elementary', 'area_code', 'All usual residents', 'Age 0 to 4',\n",
       "       'Age 5 to 7', 'Age 8 to 9', 'Age 10 to 14', 'Age 15', 'Age 16 to 17',\n",
       "       'Age 18 to 19', 'Age 20 to 24', 'Age 25 to 29', 'Age 30 to 44',\n",
       "       'Age 45 to 59', 'Age 60 to 64', 'Age 65 to 74', 'Age 75 to 84',\n",
       "       'Age 85 to 89', 'Age 90 and over', 'key', 'share_65', 'population',\n",
       "       'mobility_retail_and_recreation', 'mobility_grocery_and_pharmacy',\n",
       "       'mobility_parks', 'mobility_transit_stations', 'mobility_workplaces',\n",
       "       'mobility_residential', 'average_temperature', 'rainfall', 'latitude',\n",
       "       'longitude', 'surface', 'population_density'],\n",
       "      dtype='object')"
      ]
     },
     "execution_count": 5,
     "metadata": {},
     "output_type": "execute_result"
    }
   ],
   "source": [
    "df.columns"
   ]
  },
  {
   "cell_type": "code",
   "execution_count": 5,
   "metadata": {},
   "outputs": [],
   "source": [
    "mobility_measures = [x for x in df.columns if 'mobility_' in x]\n",
    "workforce_measures = ['managers', 'professional', 'associate', 'administrative','skilled_trades',\n",
    "                     'caring', 'sales', 'process', 'elementary']\n",
    "\n",
    "age_measures = ['share_65','Age 0 to 4', 'Age 5 to 7',\n",
    "       'Age 8 to 9', 'Age 10 to 14', 'Age 15', 'Age 16 to 17', 'Age 18 to 19',\n",
    "       'Age 20 to 24', 'Age 25 to 29', 'Age 30 to 44', 'Age 45 to 59',\n",
    "       'Age 60 to 64', 'Age 65 to 74', 'Age 75 to 84', 'Age 85 to 89',\n",
    "       'Age 90 and over']\n",
    "weather_measures = [ 'average_temperature','rainfall', 'latitude', 'longitude']"
   ]
  },
  {
   "cell_type": "code",
   "execution_count": 6,
   "metadata": {},
   "outputs": [
    {
     "data": {
      "text/html": [
       "<div>\n",
       "<style scoped>\n",
       "    .dataframe tbody tr th:only-of-type {\n",
       "        vertical-align: middle;\n",
       "    }\n",
       "\n",
       "    .dataframe tbody tr th {\n",
       "        vertical-align: top;\n",
       "    }\n",
       "\n",
       "    .dataframe thead th {\n",
       "        text-align: right;\n",
       "    }\n",
       "</style>\n",
       "<table border=\"1\" class=\"dataframe\">\n",
       "  <thead>\n",
       "    <tr style=\"text-align: right;\">\n",
       "      <th></th>\n",
       "      <th>mobility_retail_and_recreation</th>\n",
       "      <th>mobility_grocery_and_pharmacy</th>\n",
       "      <th>mobility_parks</th>\n",
       "      <th>mobility_transit_stations</th>\n",
       "      <th>mobility_workplaces</th>\n",
       "      <th>mobility_residential</th>\n",
       "    </tr>\n",
       "  </thead>\n",
       "  <tbody>\n",
       "    <tr>\n",
       "      <th>count</th>\n",
       "      <td>103.00</td>\n",
       "      <td>103.00</td>\n",
       "      <td>103.00</td>\n",
       "      <td>103.00</td>\n",
       "      <td>103.00</td>\n",
       "      <td>103.00</td>\n",
       "    </tr>\n",
       "    <tr>\n",
       "      <th>mean</th>\n",
       "      <td>-75.41</td>\n",
       "      <td>-32.50</td>\n",
       "      <td>-16.10</td>\n",
       "      <td>-65.62</td>\n",
       "      <td>-63.39</td>\n",
       "      <td>24.51</td>\n",
       "    </tr>\n",
       "    <tr>\n",
       "      <th>std</th>\n",
       "      <td>3.67</td>\n",
       "      <td>3.50</td>\n",
       "      <td>14.11</td>\n",
       "      <td>8.79</td>\n",
       "      <td>3.90</td>\n",
       "      <td>2.59</td>\n",
       "    </tr>\n",
       "    <tr>\n",
       "      <th>min</th>\n",
       "      <td>-86.47</td>\n",
       "      <td>-41.62</td>\n",
       "      <td>-45.94</td>\n",
       "      <td>-86.78</td>\n",
       "      <td>-73.62</td>\n",
       "      <td>20.47</td>\n",
       "    </tr>\n",
       "    <tr>\n",
       "      <th>25%</th>\n",
       "      <td>-77.62</td>\n",
       "      <td>-35.11</td>\n",
       "      <td>-26.48</td>\n",
       "      <td>-71.98</td>\n",
       "      <td>-65.38</td>\n",
       "      <td>22.57</td>\n",
       "    </tr>\n",
       "    <tr>\n",
       "      <th>50%</th>\n",
       "      <td>-74.91</td>\n",
       "      <td>-32.31</td>\n",
       "      <td>-15.50</td>\n",
       "      <td>-64.44</td>\n",
       "      <td>-63.19</td>\n",
       "      <td>24.06</td>\n",
       "    </tr>\n",
       "    <tr>\n",
       "      <th>75%</th>\n",
       "      <td>-73.34</td>\n",
       "      <td>-30.09</td>\n",
       "      <td>-6.97</td>\n",
       "      <td>-59.88</td>\n",
       "      <td>-61.02</td>\n",
       "      <td>25.48</td>\n",
       "    </tr>\n",
       "    <tr>\n",
       "      <th>max</th>\n",
       "      <td>-66.38</td>\n",
       "      <td>-23.78</td>\n",
       "      <td>17.09</td>\n",
       "      <td>-43.25</td>\n",
       "      <td>-52.75</td>\n",
       "      <td>32.38</td>\n",
       "    </tr>\n",
       "  </tbody>\n",
       "</table>\n",
       "</div>"
      ],
      "text/plain": [
       "       mobility_retail_and_recreation  mobility_grocery_and_pharmacy  \\\n",
       "count                          103.00                         103.00   \n",
       "mean                           -75.41                         -32.50   \n",
       "std                              3.67                           3.50   \n",
       "min                            -86.47                         -41.62   \n",
       "25%                            -77.62                         -35.11   \n",
       "50%                            -74.91                         -32.31   \n",
       "75%                            -73.34                         -30.09   \n",
       "max                            -66.38                         -23.78   \n",
       "\n",
       "       mobility_parks  mobility_transit_stations  mobility_workplaces  \\\n",
       "count          103.00                     103.00               103.00   \n",
       "mean           -16.10                     -65.62               -63.39   \n",
       "std             14.11                       8.79                 3.90   \n",
       "min            -45.94                     -86.78               -73.62   \n",
       "25%            -26.48                     -71.98               -65.38   \n",
       "50%            -15.50                     -64.44               -63.19   \n",
       "75%             -6.97                     -59.88               -61.02   \n",
       "max             17.09                     -43.25               -52.75   \n",
       "\n",
       "       mobility_residential  \n",
       "count                103.00  \n",
       "mean                  24.51  \n",
       "std                    2.59  \n",
       "min                   20.47  \n",
       "25%                   22.57  \n",
       "50%                   24.06  \n",
       "75%                   25.48  \n",
       "max                   32.38  "
      ]
     },
     "execution_count": 6,
     "metadata": {},
     "output_type": "execute_result"
    }
   ],
   "source": [
    "df[mobility_measures].describe()"
   ]
  },
  {
   "cell_type": "markdown",
   "metadata": {},
   "source": [
    "# PCA on mobility"
   ]
  },
  {
   "cell_type": "markdown",
   "metadata": {},
   "source": [
    "## Examining how mobility measures correlate"
   ]
  },
  {
   "cell_type": "code",
   "execution_count": 7,
   "metadata": {},
   "outputs": [],
   "source": [
    "mobility_measures_ordered = ['mobility_residential','mobility_parks','mobility_transit_stations',\n",
    " 'mobility_workplaces','mobility_grocery_and_pharmacy','mobility_retail_and_recreation']\n",
    "mobility_measures_ordered = mobility_measures_ordered[::-1]\n",
    "\n",
    "df_graph = df[mobility_measures_ordered].corr().iplot(kind='heatmap', colorscale='Rdbu',asFigure=True)\n",
    "\n",
    "#df_graph['data'][0]['reversescale']=True\n",
    "\n",
    "#other layout formatting\n",
    "df_graph['layout']['paper_bgcolor']='#FFFFFF'\n",
    "df_graph['layout']['plot_bgcolor']='#FFFFFF'\n",
    "\n",
    "df_graph['layout']['xaxis']['showgrid']=False\n",
    "df_graph['layout']['yaxis']['showgrid']=False\n",
    "\n",
    "df_graph['layout']['width']=800\n",
    "df_graph['layout']['height']=400\n",
    "\n",
    "df_graph['layout']['margin']['t']=0\n",
    "df_graph['layout']['margin']['b']=0\n",
    "df_graph['layout']['margin']['l']=0\n",
    "df_graph['layout']['margin']['r']=120\n",
    "df_graph['layout']['yaxis']['tickfont']['size']=15\n",
    "df_graph['layout']['xaxis']['tickfont']['size']=15\n",
    "df_graph['layout']['yaxis']['tickfont']['family']='Arial'\n",
    "df_graph['layout']['xaxis']['tickfont']['family']='Arial'\n",
    "df_graph['layout']['yaxis']['tickformat'] = \".0%\"\n",
    "\n",
    "#df_graph['layout']['yaxis']['title']['text']=\"Mobility indicator\" \n",
    "#df_graph['layout']['xaxis']['title']['text']=\"Mobility indicator\"\n",
    "df_graph['layout']['yaxis']['title']['font']['family']='Bree Serif' \n",
    "df_graph['layout']['xaxis']['title']['font']['family']='Bree Serif'\n",
    "df_graph['layout']['yaxis']['title']['font']['size']=18\n",
    "df_graph['layout']['xaxis']['title']['font']['size']=18\n",
    "df_graph['layout']['legend']['font']['family']='Arial'\n",
    "df_graph['layout']['legend']['font']['size']=18\n",
    "\n",
    "annotations=[]\n",
    "cmap=sns.color_palette('Greens_r',100)\n",
    "cmap=['rgb({0},{1},{2})'.format(x[0], x[1], x[2]) for x in cmap]\n",
    "#cmap.reverse()\n",
    "for i,y_value in enumerate(df_graph['data'][0]['y']):\n",
    "    for j,x_value in enumerate(df_graph['data'][0]['x']):\n",
    "        text=df_graph['data'][0]['z'][i][j]\n",
    "        color=cmap[int(text*10)]\n",
    "        text=\"{0:.1%}\".format(text)\n",
    "        #print(y_value, x_value,text)\n",
    "        annotations.append(dict(xref='x', yref='y',\n",
    "                    x=x_value, y=y_value,xanchor='center',\n",
    "                    text=text, font=dict(family='Arial', size=16,\n",
    "                    color=color),showarrow=False, align='center'))\n",
    "df_graph['layout']['annotations']=annotations"
   ]
  },
  {
   "cell_type": "code",
   "execution_count": 8,
   "metadata": {},
   "outputs": [
    {
     "data": {
      "application/vnd.plotly.v1+json": {
       "config": {
        "linkText": "Export to plot.ly",
        "plotlyServerURL": "https://plot.ly",
        "showLink": false
       },
       "data": [
        {
         "colorscale": [
          [
           0,
           "rgb(103,0,31)"
          ],
          [
           0.1,
           "rgb(178,24,43)"
          ],
          [
           0.2,
           "rgb(214,96,77)"
          ],
          [
           0.3,
           "rgb(244,165,130)"
          ],
          [
           0.4,
           "rgb(253,219,199)"
          ],
          [
           0.5,
           "rgb(247,247,247)"
          ],
          [
           0.6,
           "rgb(209,229,240)"
          ],
          [
           0.7,
           "rgb(146,197,222)"
          ],
          [
           0.8,
           "rgb(67,147,195)"
          ],
          [
           0.9,
           "rgb(33,102,172)"
          ],
          [
           1,
           "rgb(5,48,97)"
          ]
         ],
         "type": "heatmap",
         "x": [
          "mobility_retail_and_recreation",
          "mobility_grocery_and_pharmacy",
          "mobility_workplaces",
          "mobility_transit_stations",
          "mobility_parks",
          "mobility_residential"
         ],
         "y": [
          "mobility_retail_and_recreation",
          "mobility_grocery_and_pharmacy",
          "mobility_workplaces",
          "mobility_transit_stations",
          "mobility_parks",
          "mobility_residential"
         ],
         "z": [
          [
           1,
           0.5087502649467144,
           0.5073048707816873,
           0.4563839945921475,
           0.20016832363391637,
           -0.3439961814439679
          ],
          [
           0.5087502649467144,
           1,
           0.4011517645966785,
           0.3612018738316343,
           0.1922219689752143,
           -0.22546002785508285
          ],
          [
           0.5073048707816873,
           0.4011517645966785,
           1,
           0.5671458846829006,
           -0.1272530599401891,
           -0.7722400629382986
          ],
          [
           0.4563839945921475,
           0.3612018738316343,
           0.5671458846829006,
           1,
           -0.0920680583791523,
           -0.5624159553776367
          ],
          [
           0.20016832363391637,
           0.1922219689752143,
           -0.1272530599401891,
           -0.0920680583791523,
           1,
           0.1403415780632993
          ],
          [
           -0.3439961814439679,
           -0.22546002785508285,
           -0.7722400629382986,
           -0.5624159553776367,
           0.1403415780632993,
           1
          ]
         ],
         "zmax": 1,
         "zmin": -0.7722400629382986
        }
       ],
       "layout": {
        "annotations": [
         {
          "align": "center",
          "font": {
           "color": "rgb(0.0,0.40286043829296425,0.1623529411764706)",
           "family": "Arial",
           "size": 16
          },
          "showarrow": false,
          "text": "100.0%",
          "x": "mobility_retail_and_recreation",
          "xanchor": "center",
          "xref": "x",
          "y": "mobility_retail_and_recreation",
          "yref": "y"
         },
         {
          "align": "center",
          "font": {
           "color": "rgb(0.0,0.3423298731257209,0.13725490196078433)",
           "family": "Arial",
           "size": 16
          },
          "showarrow": false,
          "text": "50.9%",
          "x": "mobility_grocery_and_pharmacy",
          "xanchor": "center",
          "xref": "x",
          "y": "mobility_retail_and_recreation",
          "yref": "y"
         },
         {
          "align": "center",
          "font": {
           "color": "rgb(0.0,0.3423298731257209,0.13725490196078433)",
           "family": "Arial",
           "size": 16
          },
          "showarrow": false,
          "text": "50.7%",
          "x": "mobility_workplaces",
          "xanchor": "center",
          "xref": "x",
          "y": "mobility_retail_and_recreation",
          "yref": "y"
         },
         {
          "align": "center",
          "font": {
           "color": "rgb(0.0,0.32719723183391003,0.13098039215686275)",
           "family": "Arial",
           "size": 16
          },
          "showarrow": false,
          "text": "45.6%",
          "x": "mobility_transit_stations",
          "xanchor": "center",
          "xref": "x",
          "y": "mobility_retail_and_recreation",
          "yref": "y"
         },
         {
          "align": "center",
          "font": {
           "color": "rgb(0.0,0.3019761630142253,0.12052287581699346)",
           "family": "Arial",
           "size": 16
          },
          "showarrow": false,
          "text": "20.0%",
          "x": "mobility_parks",
          "xanchor": "center",
          "xref": "x",
          "y": "mobility_retail_and_recreation",
          "yref": "y"
         },
         {
          "align": "center",
          "font": {
           "color": "rgb(0.953125720876586,0.9822068435217225,0.9426989619377163)",
           "family": "Arial",
           "size": 16
          },
          "showarrow": false,
          "text": "-34.4%",
          "x": "mobility_residential",
          "xanchor": "center",
          "xref": "x",
          "y": "mobility_retail_and_recreation",
          "yref": "y"
         },
         {
          "align": "center",
          "font": {
           "color": "rgb(0.0,0.3423298731257209,0.13725490196078433)",
           "family": "Arial",
           "size": 16
          },
          "showarrow": false,
          "text": "50.9%",
          "x": "mobility_retail_and_recreation",
          "xanchor": "center",
          "xref": "x",
          "y": "mobility_grocery_and_pharmacy",
          "yref": "y"
         },
         {
          "align": "center",
          "font": {
           "color": "rgb(0.0,0.40286043829296425,0.1623529411764706)",
           "family": "Arial",
           "size": 16
          },
          "showarrow": false,
          "text": "100.0%",
          "x": "mobility_grocery_and_pharmacy",
          "xanchor": "center",
          "xref": "x",
          "y": "mobility_grocery_and_pharmacy",
          "yref": "y"
         },
         {
          "align": "center",
          "font": {
           "color": "rgb(0.0,0.32719723183391003,0.13098039215686275)",
           "family": "Arial",
           "size": 16
          },
          "showarrow": false,
          "text": "40.1%",
          "x": "mobility_workplaces",
          "xanchor": "center",
          "xref": "x",
          "y": "mobility_grocery_and_pharmacy",
          "yref": "y"
         },
         {
          "align": "center",
          "font": {
           "color": "rgb(0.0,0.3171088043060361,0.12679738562091503)",
           "family": "Arial",
           "size": 16
          },
          "showarrow": false,
          "text": "36.1%",
          "x": "mobility_transit_stations",
          "xanchor": "center",
          "xref": "x",
          "y": "mobility_grocery_and_pharmacy",
          "yref": "y"
         },
         {
          "align": "center",
          "font": {
           "color": "rgb(0.0,0.2918877354863514,0.11633986928104575)",
           "family": "Arial",
           "size": 16
          },
          "showarrow": false,
          "text": "19.2%",
          "x": "mobility_parks",
          "xanchor": "center",
          "xref": "x",
          "y": "mobility_grocery_and_pharmacy",
          "yref": "y"
         },
         {
          "align": "center",
          "font": {
           "color": "rgb(0.9575547866205306,0.9839292579777009,0.9478662053056517)",
           "family": "Arial",
           "size": 16
          },
          "showarrow": false,
          "text": "-22.5%",
          "x": "mobility_residential",
          "xanchor": "center",
          "xref": "x",
          "y": "mobility_grocery_and_pharmacy",
          "yref": "y"
         },
         {
          "align": "center",
          "font": {
           "color": "rgb(0.0,0.3423298731257209,0.13725490196078433)",
           "family": "Arial",
           "size": 16
          },
          "showarrow": false,
          "text": "50.7%",
          "x": "mobility_retail_and_recreation",
          "xanchor": "center",
          "xref": "x",
          "y": "mobility_workplaces",
          "yref": "y"
         },
         {
          "align": "center",
          "font": {
           "color": "rgb(0.0,0.32719723183391003,0.13098039215686275)",
           "family": "Arial",
           "size": 16
          },
          "showarrow": false,
          "text": "40.1%",
          "x": "mobility_grocery_and_pharmacy",
          "xanchor": "center",
          "xref": "x",
          "y": "mobility_workplaces",
          "yref": "y"
         },
         {
          "align": "center",
          "font": {
           "color": "rgb(0.0,0.40286043829296425,0.1623529411764706)",
           "family": "Arial",
           "size": 16
          },
          "showarrow": false,
          "text": "100.0%",
          "x": "mobility_workplaces",
          "xanchor": "center",
          "xref": "x",
          "y": "mobility_workplaces",
          "yref": "y"
         },
         {
          "align": "center",
          "font": {
           "color": "rgb(0.0,0.3423298731257209,0.13725490196078433)",
           "family": "Arial",
           "size": 16
          },
          "showarrow": false,
          "text": "56.7%",
          "x": "mobility_transit_stations",
          "xanchor": "center",
          "xref": "x",
          "y": "mobility_workplaces",
          "yref": "y"
         },
         {
          "align": "center",
          "font": {
           "color": "rgb(0.9641983852364475,0.9865128796616687,0.9556170703575548)",
           "family": "Arial",
           "size": 16
          },
          "showarrow": false,
          "text": "-12.7%",
          "x": "mobility_parks",
          "xanchor": "center",
          "xref": "x",
          "y": "mobility_workplaces",
          "yref": "y"
         },
         {
          "align": "center",
          "font": {
           "color": "rgb(0.9309803921568628,0.9735947712418301,0.9168627450980392)",
           "family": "Arial",
           "size": 16
          },
          "showarrow": false,
          "text": "-77.2%",
          "x": "mobility_residential",
          "xanchor": "center",
          "xref": "x",
          "y": "mobility_workplaces",
          "yref": "y"
         },
         {
          "align": "center",
          "font": {
           "color": "rgb(0.0,0.32719723183391003,0.13098039215686275)",
           "family": "Arial",
           "size": 16
          },
          "showarrow": false,
          "text": "45.6%",
          "x": "mobility_retail_and_recreation",
          "xanchor": "center",
          "xref": "x",
          "y": "mobility_transit_stations",
          "yref": "y"
         },
         {
          "align": "center",
          "font": {
           "color": "rgb(0.0,0.3171088043060361,0.12679738562091503)",
           "family": "Arial",
           "size": 16
          },
          "showarrow": false,
          "text": "36.1%",
          "x": "mobility_grocery_and_pharmacy",
          "xanchor": "center",
          "xref": "x",
          "y": "mobility_transit_stations",
          "yref": "y"
         },
         {
          "align": "center",
          "font": {
           "color": "rgb(0.0,0.3423298731257209,0.13725490196078433)",
           "family": "Arial",
           "size": 16
          },
          "showarrow": false,
          "text": "56.7%",
          "x": "mobility_workplaces",
          "xanchor": "center",
          "xref": "x",
          "y": "mobility_transit_stations",
          "yref": "y"
         },
         {
          "align": "center",
          "font": {
           "color": "rgb(0.0,0.40286043829296425,0.1623529411764706)",
           "family": "Arial",
           "size": 16
          },
          "showarrow": false,
          "text": "100.0%",
          "x": "mobility_transit_stations",
          "xanchor": "center",
          "xref": "x",
          "y": "mobility_transit_stations",
          "yref": "y"
         },
         {
          "align": "center",
          "font": {
           "color": "rgb(0.0,0.27675509419454053,0.11006535947712418)",
           "family": "Arial",
           "size": 16
          },
          "showarrow": false,
          "text": "-9.2%",
          "x": "mobility_parks",
          "xanchor": "center",
          "xref": "x",
          "y": "mobility_transit_stations",
          "yref": "y"
         },
         {
          "align": "center",
          "font": {
           "color": "rgb(0.9420530565167243,0.9779008073817763,0.9297808535178778)",
           "family": "Arial",
           "size": 16
          },
          "showarrow": false,
          "text": "-56.2%",
          "x": "mobility_residential",
          "xanchor": "center",
          "xref": "x",
          "y": "mobility_transit_stations",
          "yref": "y"
         },
         {
          "align": "center",
          "font": {
           "color": "rgb(0.0,0.3019761630142253,0.12052287581699346)",
           "family": "Arial",
           "size": 16
          },
          "showarrow": false,
          "text": "20.0%",
          "x": "mobility_retail_and_recreation",
          "xanchor": "center",
          "xref": "x",
          "y": "mobility_parks",
          "yref": "y"
         },
         {
          "align": "center",
          "font": {
           "color": "rgb(0.0,0.2918877354863514,0.11633986928104575)",
           "family": "Arial",
           "size": 16
          },
          "showarrow": false,
          "text": "19.2%",
          "x": "mobility_grocery_and_pharmacy",
          "xanchor": "center",
          "xref": "x",
          "y": "mobility_parks",
          "yref": "y"
         },
         {
          "align": "center",
          "font": {
           "color": "rgb(0.9641983852364475,0.9865128796616687,0.9556170703575548)",
           "family": "Arial",
           "size": 16
          },
          "showarrow": false,
          "text": "-12.7%",
          "x": "mobility_workplaces",
          "xanchor": "center",
          "xref": "x",
          "y": "mobility_parks",
          "yref": "y"
         },
         {
          "align": "center",
          "font": {
           "color": "rgb(0.0,0.27675509419454053,0.11006535947712418)",
           "family": "Arial",
           "size": 16
          },
          "showarrow": false,
          "text": "-9.2%",
          "x": "mobility_transit_stations",
          "xanchor": "center",
          "xref": "x",
          "y": "mobility_parks",
          "yref": "y"
         },
         {
          "align": "center",
          "font": {
           "color": "rgb(0.0,0.40286043829296425,0.1623529411764706)",
           "family": "Arial",
           "size": 16
          },
          "showarrow": false,
          "text": "100.0%",
          "x": "mobility_parks",
          "xanchor": "center",
          "xref": "x",
          "y": "mobility_parks",
          "yref": "y"
         },
         {
          "align": "center",
          "font": {
           "color": "rgb(0.0,0.2918877354863514,0.11633986928104575)",
           "family": "Arial",
           "size": 16
          },
          "showarrow": false,
          "text": "14.0%",
          "x": "mobility_residential",
          "xanchor": "center",
          "xref": "x",
          "y": "mobility_parks",
          "yref": "y"
         },
         {
          "align": "center",
          "font": {
           "color": "rgb(0.953125720876586,0.9822068435217225,0.9426989619377163)",
           "family": "Arial",
           "size": 16
          },
          "showarrow": false,
          "text": "-34.4%",
          "x": "mobility_retail_and_recreation",
          "xanchor": "center",
          "xref": "x",
          "y": "mobility_residential",
          "yref": "y"
         },
         {
          "align": "center",
          "font": {
           "color": "rgb(0.9575547866205306,0.9839292579777009,0.9478662053056517)",
           "family": "Arial",
           "size": 16
          },
          "showarrow": false,
          "text": "-22.5%",
          "x": "mobility_grocery_and_pharmacy",
          "xanchor": "center",
          "xref": "x",
          "y": "mobility_residential",
          "yref": "y"
         },
         {
          "align": "center",
          "font": {
           "color": "rgb(0.9309803921568628,0.9735947712418301,0.9168627450980392)",
           "family": "Arial",
           "size": 16
          },
          "showarrow": false,
          "text": "-77.2%",
          "x": "mobility_workplaces",
          "xanchor": "center",
          "xref": "x",
          "y": "mobility_residential",
          "yref": "y"
         },
         {
          "align": "center",
          "font": {
           "color": "rgb(0.9420530565167243,0.9779008073817763,0.9297808535178778)",
           "family": "Arial",
           "size": 16
          },
          "showarrow": false,
          "text": "-56.2%",
          "x": "mobility_transit_stations",
          "xanchor": "center",
          "xref": "x",
          "y": "mobility_residential",
          "yref": "y"
         },
         {
          "align": "center",
          "font": {
           "color": "rgb(0.0,0.2918877354863514,0.11633986928104575)",
           "family": "Arial",
           "size": 16
          },
          "showarrow": false,
          "text": "14.0%",
          "x": "mobility_parks",
          "xanchor": "center",
          "xref": "x",
          "y": "mobility_residential",
          "yref": "y"
         },
         {
          "align": "center",
          "font": {
           "color": "rgb(0.0,0.40286043829296425,0.1623529411764706)",
           "family": "Arial",
           "size": 16
          },
          "showarrow": false,
          "text": "100.0%",
          "x": "mobility_residential",
          "xanchor": "center",
          "xref": "x",
          "y": "mobility_residential",
          "yref": "y"
         }
        ],
        "height": 400,
        "legend": {
         "bgcolor": "#F5F6F9",
         "font": {
          "color": "#4D5663",
          "family": "Arial",
          "size": 18
         }
        },
        "margin": {
         "b": 0,
         "l": 0,
         "r": 120,
         "t": 0
        },
        "paper_bgcolor": "#FFFFFF",
        "plot_bgcolor": "#FFFFFF",
        "template": {
         "data": {
          "bar": [
           {
            "error_x": {
             "color": "#2a3f5f"
            },
            "error_y": {
             "color": "#2a3f5f"
            },
            "marker": {
             "line": {
              "color": "#E5ECF6",
              "width": 0.5
             }
            },
            "type": "bar"
           }
          ],
          "barpolar": [
           {
            "marker": {
             "line": {
              "color": "#E5ECF6",
              "width": 0.5
             }
            },
            "type": "barpolar"
           }
          ],
          "carpet": [
           {
            "aaxis": {
             "endlinecolor": "#2a3f5f",
             "gridcolor": "white",
             "linecolor": "white",
             "minorgridcolor": "white",
             "startlinecolor": "#2a3f5f"
            },
            "baxis": {
             "endlinecolor": "#2a3f5f",
             "gridcolor": "white",
             "linecolor": "white",
             "minorgridcolor": "white",
             "startlinecolor": "#2a3f5f"
            },
            "type": "carpet"
           }
          ],
          "choropleth": [
           {
            "colorbar": {
             "outlinewidth": 0,
             "ticks": ""
            },
            "type": "choropleth"
           }
          ],
          "contour": [
           {
            "colorbar": {
             "outlinewidth": 0,
             "ticks": ""
            },
            "colorscale": [
             [
              0,
              "#0d0887"
             ],
             [
              0.1111111111111111,
              "#46039f"
             ],
             [
              0.2222222222222222,
              "#7201a8"
             ],
             [
              0.3333333333333333,
              "#9c179e"
             ],
             [
              0.4444444444444444,
              "#bd3786"
             ],
             [
              0.5555555555555556,
              "#d8576b"
             ],
             [
              0.6666666666666666,
              "#ed7953"
             ],
             [
              0.7777777777777778,
              "#fb9f3a"
             ],
             [
              0.8888888888888888,
              "#fdca26"
             ],
             [
              1,
              "#f0f921"
             ]
            ],
            "type": "contour"
           }
          ],
          "contourcarpet": [
           {
            "colorbar": {
             "outlinewidth": 0,
             "ticks": ""
            },
            "type": "contourcarpet"
           }
          ],
          "heatmap": [
           {
            "colorbar": {
             "outlinewidth": 0,
             "ticks": ""
            },
            "colorscale": [
             [
              0,
              "#0d0887"
             ],
             [
              0.1111111111111111,
              "#46039f"
             ],
             [
              0.2222222222222222,
              "#7201a8"
             ],
             [
              0.3333333333333333,
              "#9c179e"
             ],
             [
              0.4444444444444444,
              "#bd3786"
             ],
             [
              0.5555555555555556,
              "#d8576b"
             ],
             [
              0.6666666666666666,
              "#ed7953"
             ],
             [
              0.7777777777777778,
              "#fb9f3a"
             ],
             [
              0.8888888888888888,
              "#fdca26"
             ],
             [
              1,
              "#f0f921"
             ]
            ],
            "type": "heatmap"
           }
          ],
          "heatmapgl": [
           {
            "colorbar": {
             "outlinewidth": 0,
             "ticks": ""
            },
            "colorscale": [
             [
              0,
              "#0d0887"
             ],
             [
              0.1111111111111111,
              "#46039f"
             ],
             [
              0.2222222222222222,
              "#7201a8"
             ],
             [
              0.3333333333333333,
              "#9c179e"
             ],
             [
              0.4444444444444444,
              "#bd3786"
             ],
             [
              0.5555555555555556,
              "#d8576b"
             ],
             [
              0.6666666666666666,
              "#ed7953"
             ],
             [
              0.7777777777777778,
              "#fb9f3a"
             ],
             [
              0.8888888888888888,
              "#fdca26"
             ],
             [
              1,
              "#f0f921"
             ]
            ],
            "type": "heatmapgl"
           }
          ],
          "histogram": [
           {
            "marker": {
             "colorbar": {
              "outlinewidth": 0,
              "ticks": ""
             }
            },
            "type": "histogram"
           }
          ],
          "histogram2d": [
           {
            "colorbar": {
             "outlinewidth": 0,
             "ticks": ""
            },
            "colorscale": [
             [
              0,
              "#0d0887"
             ],
             [
              0.1111111111111111,
              "#46039f"
             ],
             [
              0.2222222222222222,
              "#7201a8"
             ],
             [
              0.3333333333333333,
              "#9c179e"
             ],
             [
              0.4444444444444444,
              "#bd3786"
             ],
             [
              0.5555555555555556,
              "#d8576b"
             ],
             [
              0.6666666666666666,
              "#ed7953"
             ],
             [
              0.7777777777777778,
              "#fb9f3a"
             ],
             [
              0.8888888888888888,
              "#fdca26"
             ],
             [
              1,
              "#f0f921"
             ]
            ],
            "type": "histogram2d"
           }
          ],
          "histogram2dcontour": [
           {
            "colorbar": {
             "outlinewidth": 0,
             "ticks": ""
            },
            "colorscale": [
             [
              0,
              "#0d0887"
             ],
             [
              0.1111111111111111,
              "#46039f"
             ],
             [
              0.2222222222222222,
              "#7201a8"
             ],
             [
              0.3333333333333333,
              "#9c179e"
             ],
             [
              0.4444444444444444,
              "#bd3786"
             ],
             [
              0.5555555555555556,
              "#d8576b"
             ],
             [
              0.6666666666666666,
              "#ed7953"
             ],
             [
              0.7777777777777778,
              "#fb9f3a"
             ],
             [
              0.8888888888888888,
              "#fdca26"
             ],
             [
              1,
              "#f0f921"
             ]
            ],
            "type": "histogram2dcontour"
           }
          ],
          "mesh3d": [
           {
            "colorbar": {
             "outlinewidth": 0,
             "ticks": ""
            },
            "type": "mesh3d"
           }
          ],
          "parcoords": [
           {
            "line": {
             "colorbar": {
              "outlinewidth": 0,
              "ticks": ""
             }
            },
            "type": "parcoords"
           }
          ],
          "pie": [
           {
            "automargin": true,
            "type": "pie"
           }
          ],
          "scatter": [
           {
            "marker": {
             "colorbar": {
              "outlinewidth": 0,
              "ticks": ""
             }
            },
            "type": "scatter"
           }
          ],
          "scatter3d": [
           {
            "line": {
             "colorbar": {
              "outlinewidth": 0,
              "ticks": ""
             }
            },
            "marker": {
             "colorbar": {
              "outlinewidth": 0,
              "ticks": ""
             }
            },
            "type": "scatter3d"
           }
          ],
          "scattercarpet": [
           {
            "marker": {
             "colorbar": {
              "outlinewidth": 0,
              "ticks": ""
             }
            },
            "type": "scattercarpet"
           }
          ],
          "scattergeo": [
           {
            "marker": {
             "colorbar": {
              "outlinewidth": 0,
              "ticks": ""
             }
            },
            "type": "scattergeo"
           }
          ],
          "scattergl": [
           {
            "marker": {
             "colorbar": {
              "outlinewidth": 0,
              "ticks": ""
             }
            },
            "type": "scattergl"
           }
          ],
          "scattermapbox": [
           {
            "marker": {
             "colorbar": {
              "outlinewidth": 0,
              "ticks": ""
             }
            },
            "type": "scattermapbox"
           }
          ],
          "scatterpolar": [
           {
            "marker": {
             "colorbar": {
              "outlinewidth": 0,
              "ticks": ""
             }
            },
            "type": "scatterpolar"
           }
          ],
          "scatterpolargl": [
           {
            "marker": {
             "colorbar": {
              "outlinewidth": 0,
              "ticks": ""
             }
            },
            "type": "scatterpolargl"
           }
          ],
          "scatterternary": [
           {
            "marker": {
             "colorbar": {
              "outlinewidth": 0,
              "ticks": ""
             }
            },
            "type": "scatterternary"
           }
          ],
          "surface": [
           {
            "colorbar": {
             "outlinewidth": 0,
             "ticks": ""
            },
            "colorscale": [
             [
              0,
              "#0d0887"
             ],
             [
              0.1111111111111111,
              "#46039f"
             ],
             [
              0.2222222222222222,
              "#7201a8"
             ],
             [
              0.3333333333333333,
              "#9c179e"
             ],
             [
              0.4444444444444444,
              "#bd3786"
             ],
             [
              0.5555555555555556,
              "#d8576b"
             ],
             [
              0.6666666666666666,
              "#ed7953"
             ],
             [
              0.7777777777777778,
              "#fb9f3a"
             ],
             [
              0.8888888888888888,
              "#fdca26"
             ],
             [
              1,
              "#f0f921"
             ]
            ],
            "type": "surface"
           }
          ],
          "table": [
           {
            "cells": {
             "fill": {
              "color": "#EBF0F8"
             },
             "line": {
              "color": "white"
             }
            },
            "header": {
             "fill": {
              "color": "#C8D4E3"
             },
             "line": {
              "color": "white"
             }
            },
            "type": "table"
           }
          ]
         },
         "layout": {
          "annotationdefaults": {
           "arrowcolor": "#2a3f5f",
           "arrowhead": 0,
           "arrowwidth": 1
          },
          "autotypenumbers": "strict",
          "coloraxis": {
           "colorbar": {
            "outlinewidth": 0,
            "ticks": ""
           }
          },
          "colorscale": {
           "diverging": [
            [
             0,
             "#8e0152"
            ],
            [
             0.1,
             "#c51b7d"
            ],
            [
             0.2,
             "#de77ae"
            ],
            [
             0.3,
             "#f1b6da"
            ],
            [
             0.4,
             "#fde0ef"
            ],
            [
             0.5,
             "#f7f7f7"
            ],
            [
             0.6,
             "#e6f5d0"
            ],
            [
             0.7,
             "#b8e186"
            ],
            [
             0.8,
             "#7fbc41"
            ],
            [
             0.9,
             "#4d9221"
            ],
            [
             1,
             "#276419"
            ]
           ],
           "sequential": [
            [
             0,
             "#0d0887"
            ],
            [
             0.1111111111111111,
             "#46039f"
            ],
            [
             0.2222222222222222,
             "#7201a8"
            ],
            [
             0.3333333333333333,
             "#9c179e"
            ],
            [
             0.4444444444444444,
             "#bd3786"
            ],
            [
             0.5555555555555556,
             "#d8576b"
            ],
            [
             0.6666666666666666,
             "#ed7953"
            ],
            [
             0.7777777777777778,
             "#fb9f3a"
            ],
            [
             0.8888888888888888,
             "#fdca26"
            ],
            [
             1,
             "#f0f921"
            ]
           ],
           "sequentialminus": [
            [
             0,
             "#0d0887"
            ],
            [
             0.1111111111111111,
             "#46039f"
            ],
            [
             0.2222222222222222,
             "#7201a8"
            ],
            [
             0.3333333333333333,
             "#9c179e"
            ],
            [
             0.4444444444444444,
             "#bd3786"
            ],
            [
             0.5555555555555556,
             "#d8576b"
            ],
            [
             0.6666666666666666,
             "#ed7953"
            ],
            [
             0.7777777777777778,
             "#fb9f3a"
            ],
            [
             0.8888888888888888,
             "#fdca26"
            ],
            [
             1,
             "#f0f921"
            ]
           ]
          },
          "colorway": [
           "#636efa",
           "#EF553B",
           "#00cc96",
           "#ab63fa",
           "#FFA15A",
           "#19d3f3",
           "#FF6692",
           "#B6E880",
           "#FF97FF",
           "#FECB52"
          ],
          "font": {
           "color": "#2a3f5f"
          },
          "geo": {
           "bgcolor": "white",
           "lakecolor": "white",
           "landcolor": "#E5ECF6",
           "showlakes": true,
           "showland": true,
           "subunitcolor": "white"
          },
          "hoverlabel": {
           "align": "left"
          },
          "hovermode": "closest",
          "mapbox": {
           "style": "light"
          },
          "paper_bgcolor": "white",
          "plot_bgcolor": "#E5ECF6",
          "polar": {
           "angularaxis": {
            "gridcolor": "white",
            "linecolor": "white",
            "ticks": ""
           },
           "bgcolor": "#E5ECF6",
           "radialaxis": {
            "gridcolor": "white",
            "linecolor": "white",
            "ticks": ""
           }
          },
          "scene": {
           "xaxis": {
            "backgroundcolor": "#E5ECF6",
            "gridcolor": "white",
            "gridwidth": 2,
            "linecolor": "white",
            "showbackground": true,
            "ticks": "",
            "zerolinecolor": "white"
           },
           "yaxis": {
            "backgroundcolor": "#E5ECF6",
            "gridcolor": "white",
            "gridwidth": 2,
            "linecolor": "white",
            "showbackground": true,
            "ticks": "",
            "zerolinecolor": "white"
           },
           "zaxis": {
            "backgroundcolor": "#E5ECF6",
            "gridcolor": "white",
            "gridwidth": 2,
            "linecolor": "white",
            "showbackground": true,
            "ticks": "",
            "zerolinecolor": "white"
           }
          },
          "shapedefaults": {
           "line": {
            "color": "#2a3f5f"
           }
          },
          "ternary": {
           "aaxis": {
            "gridcolor": "white",
            "linecolor": "white",
            "ticks": ""
           },
           "baxis": {
            "gridcolor": "white",
            "linecolor": "white",
            "ticks": ""
           },
           "bgcolor": "#E5ECF6",
           "caxis": {
            "gridcolor": "white",
            "linecolor": "white",
            "ticks": ""
           }
          },
          "title": {
           "x": 0.05
          },
          "xaxis": {
           "automargin": true,
           "gridcolor": "white",
           "linecolor": "white",
           "ticks": "",
           "title": {
            "standoff": 15
           },
           "zerolinecolor": "white",
           "zerolinewidth": 2
          },
          "yaxis": {
           "automargin": true,
           "gridcolor": "white",
           "linecolor": "white",
           "ticks": "",
           "title": {
            "standoff": 15
           },
           "zerolinecolor": "white",
           "zerolinewidth": 2
          }
         }
        },
        "title": {
         "font": {
          "color": "#4D5663"
         }
        },
        "width": 800,
        "xaxis": {
         "gridcolor": "#E1E5ED",
         "showgrid": false,
         "tickfont": {
          "color": "#4D5663",
          "family": "Arial",
          "size": 15
         },
         "title": {
          "font": {
           "color": "#4D5663",
           "family": "Bree Serif",
           "size": 18
          },
          "text": ""
         },
         "zerolinecolor": "#E1E5ED"
        },
        "yaxis": {
         "gridcolor": "#E1E5ED",
         "showgrid": false,
         "tickfont": {
          "color": "#4D5663",
          "family": "Arial",
          "size": 15
         },
         "tickformat": ".0%",
         "title": {
          "font": {
           "color": "#4D5663",
           "family": "Bree Serif",
           "size": 18
          },
          "text": ""
         },
         "zerolinecolor": "#E1E5ED"
        }
       }
      },
      "text/html": [
       "<div>                            <div id=\"6c14431a-df1a-48e2-8540-614868c73a3b\" class=\"plotly-graph-div\" style=\"height:400px; width:800px;\"></div>            <script type=\"text/javascript\">                require([\"plotly\"], function(Plotly) {                    window.PLOTLYENV=window.PLOTLYENV || {};                                    if (document.getElementById(\"6c14431a-df1a-48e2-8540-614868c73a3b\")) {                    Plotly.newPlot(                        \"6c14431a-df1a-48e2-8540-614868c73a3b\",                        [{\"colorscale\": [[0.0, \"rgb(103,0,31)\"], [0.1, \"rgb(178,24,43)\"], [0.2, \"rgb(214,96,77)\"], [0.3, \"rgb(244,165,130)\"], [0.4, \"rgb(253,219,199)\"], [0.5, \"rgb(247,247,247)\"], [0.6, \"rgb(209,229,240)\"], [0.7, \"rgb(146,197,222)\"], [0.8, \"rgb(67,147,195)\"], [0.9, \"rgb(33,102,172)\"], [1.0, \"rgb(5,48,97)\"]], \"type\": \"heatmap\", \"x\": [\"mobility_retail_and_recreation\", \"mobility_grocery_and_pharmacy\", \"mobility_workplaces\", \"mobility_transit_stations\", \"mobility_parks\", \"mobility_residential\"], \"y\": [\"mobility_retail_and_recreation\", \"mobility_grocery_and_pharmacy\", \"mobility_workplaces\", \"mobility_transit_stations\", \"mobility_parks\", \"mobility_residential\"], \"z\": [[1.0, 0.5087502649467144, 0.5073048707816873, 0.4563839945921475, 0.20016832363391637, -0.3439961814439679], [0.5087502649467144, 1.0, 0.4011517645966785, 0.3612018738316343, 0.1922219689752143, -0.22546002785508285], [0.5073048707816873, 0.4011517645966785, 1.0, 0.5671458846829006, -0.1272530599401891, -0.7722400629382986], [0.4563839945921475, 0.3612018738316343, 0.5671458846829006, 1.0, -0.0920680583791523, -0.5624159553776367], [0.20016832363391637, 0.1922219689752143, -0.1272530599401891, -0.0920680583791523, 1.0, 0.1403415780632993], [-0.3439961814439679, -0.22546002785508285, -0.7722400629382986, -0.5624159553776367, 0.1403415780632993, 1.0]], \"zmax\": 1.0, \"zmin\": -0.7722400629382986}],                        {\"annotations\": [{\"align\": \"center\", \"font\": {\"color\": \"rgb(0.0,0.40286043829296425,0.1623529411764706)\", \"family\": \"Arial\", \"size\": 16}, \"showarrow\": false, \"text\": \"100.0%\", \"x\": \"mobility_retail_and_recreation\", \"xanchor\": \"center\", \"xref\": \"x\", \"y\": \"mobility_retail_and_recreation\", \"yref\": \"y\"}, {\"align\": \"center\", \"font\": {\"color\": \"rgb(0.0,0.3423298731257209,0.13725490196078433)\", \"family\": \"Arial\", \"size\": 16}, \"showarrow\": false, \"text\": \"50.9%\", \"x\": \"mobility_grocery_and_pharmacy\", \"xanchor\": \"center\", \"xref\": \"x\", \"y\": \"mobility_retail_and_recreation\", \"yref\": \"y\"}, {\"align\": \"center\", \"font\": {\"color\": \"rgb(0.0,0.3423298731257209,0.13725490196078433)\", \"family\": \"Arial\", \"size\": 16}, \"showarrow\": false, \"text\": \"50.7%\", \"x\": \"mobility_workplaces\", \"xanchor\": \"center\", \"xref\": \"x\", \"y\": \"mobility_retail_and_recreation\", \"yref\": \"y\"}, {\"align\": \"center\", \"font\": {\"color\": \"rgb(0.0,0.32719723183391003,0.13098039215686275)\", \"family\": \"Arial\", \"size\": 16}, \"showarrow\": false, \"text\": \"45.6%\", \"x\": \"mobility_transit_stations\", \"xanchor\": \"center\", \"xref\": \"x\", \"y\": \"mobility_retail_and_recreation\", \"yref\": \"y\"}, {\"align\": \"center\", \"font\": {\"color\": \"rgb(0.0,0.3019761630142253,0.12052287581699346)\", \"family\": \"Arial\", \"size\": 16}, \"showarrow\": false, \"text\": \"20.0%\", \"x\": \"mobility_parks\", \"xanchor\": \"center\", \"xref\": \"x\", \"y\": \"mobility_retail_and_recreation\", \"yref\": \"y\"}, {\"align\": \"center\", \"font\": {\"color\": \"rgb(0.953125720876586,0.9822068435217225,0.9426989619377163)\", \"family\": \"Arial\", \"size\": 16}, \"showarrow\": false, \"text\": \"-34.4%\", \"x\": \"mobility_residential\", \"xanchor\": \"center\", \"xref\": \"x\", \"y\": \"mobility_retail_and_recreation\", \"yref\": \"y\"}, {\"align\": \"center\", \"font\": {\"color\": \"rgb(0.0,0.3423298731257209,0.13725490196078433)\", \"family\": \"Arial\", \"size\": 16}, \"showarrow\": false, \"text\": \"50.9%\", \"x\": \"mobility_retail_and_recreation\", \"xanchor\": \"center\", \"xref\": \"x\", \"y\": \"mobility_grocery_and_pharmacy\", \"yref\": \"y\"}, {\"align\": \"center\", \"font\": {\"color\": \"rgb(0.0,0.40286043829296425,0.1623529411764706)\", \"family\": \"Arial\", \"size\": 16}, \"showarrow\": false, \"text\": \"100.0%\", \"x\": \"mobility_grocery_and_pharmacy\", \"xanchor\": \"center\", \"xref\": \"x\", \"y\": \"mobility_grocery_and_pharmacy\", \"yref\": \"y\"}, {\"align\": \"center\", \"font\": {\"color\": \"rgb(0.0,0.32719723183391003,0.13098039215686275)\", \"family\": \"Arial\", \"size\": 16}, \"showarrow\": false, \"text\": \"40.1%\", \"x\": \"mobility_workplaces\", \"xanchor\": \"center\", \"xref\": \"x\", \"y\": \"mobility_grocery_and_pharmacy\", \"yref\": \"y\"}, {\"align\": \"center\", \"font\": {\"color\": \"rgb(0.0,0.3171088043060361,0.12679738562091503)\", \"family\": \"Arial\", \"size\": 16}, \"showarrow\": false, \"text\": \"36.1%\", \"x\": \"mobility_transit_stations\", \"xanchor\": \"center\", \"xref\": \"x\", \"y\": \"mobility_grocery_and_pharmacy\", \"yref\": \"y\"}, {\"align\": \"center\", \"font\": {\"color\": \"rgb(0.0,0.2918877354863514,0.11633986928104575)\", \"family\": \"Arial\", \"size\": 16}, \"showarrow\": false, \"text\": \"19.2%\", \"x\": \"mobility_parks\", \"xanchor\": \"center\", \"xref\": \"x\", \"y\": \"mobility_grocery_and_pharmacy\", \"yref\": \"y\"}, {\"align\": \"center\", \"font\": {\"color\": \"rgb(0.9575547866205306,0.9839292579777009,0.9478662053056517)\", \"family\": \"Arial\", \"size\": 16}, \"showarrow\": false, \"text\": \"-22.5%\", \"x\": \"mobility_residential\", \"xanchor\": \"center\", \"xref\": \"x\", \"y\": \"mobility_grocery_and_pharmacy\", \"yref\": \"y\"}, {\"align\": \"center\", \"font\": {\"color\": \"rgb(0.0,0.3423298731257209,0.13725490196078433)\", \"family\": \"Arial\", \"size\": 16}, \"showarrow\": false, \"text\": \"50.7%\", \"x\": \"mobility_retail_and_recreation\", \"xanchor\": \"center\", \"xref\": \"x\", \"y\": \"mobility_workplaces\", \"yref\": \"y\"}, {\"align\": \"center\", \"font\": {\"color\": \"rgb(0.0,0.32719723183391003,0.13098039215686275)\", \"family\": \"Arial\", \"size\": 16}, \"showarrow\": false, \"text\": \"40.1%\", \"x\": \"mobility_grocery_and_pharmacy\", \"xanchor\": \"center\", \"xref\": \"x\", \"y\": \"mobility_workplaces\", \"yref\": \"y\"}, {\"align\": \"center\", \"font\": {\"color\": \"rgb(0.0,0.40286043829296425,0.1623529411764706)\", \"family\": \"Arial\", \"size\": 16}, \"showarrow\": false, \"text\": \"100.0%\", \"x\": \"mobility_workplaces\", \"xanchor\": \"center\", \"xref\": \"x\", \"y\": \"mobility_workplaces\", \"yref\": \"y\"}, {\"align\": \"center\", \"font\": {\"color\": \"rgb(0.0,0.3423298731257209,0.13725490196078433)\", \"family\": \"Arial\", \"size\": 16}, \"showarrow\": false, \"text\": \"56.7%\", \"x\": \"mobility_transit_stations\", \"xanchor\": \"center\", \"xref\": \"x\", \"y\": \"mobility_workplaces\", \"yref\": \"y\"}, {\"align\": \"center\", \"font\": {\"color\": \"rgb(0.9641983852364475,0.9865128796616687,0.9556170703575548)\", \"family\": \"Arial\", \"size\": 16}, \"showarrow\": false, \"text\": \"-12.7%\", \"x\": \"mobility_parks\", \"xanchor\": \"center\", \"xref\": \"x\", \"y\": \"mobility_workplaces\", \"yref\": \"y\"}, {\"align\": \"center\", \"font\": {\"color\": \"rgb(0.9309803921568628,0.9735947712418301,0.9168627450980392)\", \"family\": \"Arial\", \"size\": 16}, \"showarrow\": false, \"text\": \"-77.2%\", \"x\": \"mobility_residential\", \"xanchor\": \"center\", \"xref\": \"x\", \"y\": \"mobility_workplaces\", \"yref\": \"y\"}, {\"align\": \"center\", \"font\": {\"color\": \"rgb(0.0,0.32719723183391003,0.13098039215686275)\", \"family\": \"Arial\", \"size\": 16}, \"showarrow\": false, \"text\": \"45.6%\", \"x\": \"mobility_retail_and_recreation\", \"xanchor\": \"center\", \"xref\": \"x\", \"y\": \"mobility_transit_stations\", \"yref\": \"y\"}, {\"align\": \"center\", \"font\": {\"color\": \"rgb(0.0,0.3171088043060361,0.12679738562091503)\", \"family\": \"Arial\", \"size\": 16}, \"showarrow\": false, \"text\": \"36.1%\", \"x\": \"mobility_grocery_and_pharmacy\", \"xanchor\": \"center\", \"xref\": \"x\", \"y\": \"mobility_transit_stations\", \"yref\": \"y\"}, {\"align\": \"center\", \"font\": {\"color\": \"rgb(0.0,0.3423298731257209,0.13725490196078433)\", \"family\": \"Arial\", \"size\": 16}, \"showarrow\": false, \"text\": \"56.7%\", \"x\": \"mobility_workplaces\", \"xanchor\": \"center\", \"xref\": \"x\", \"y\": \"mobility_transit_stations\", \"yref\": \"y\"}, {\"align\": \"center\", \"font\": {\"color\": \"rgb(0.0,0.40286043829296425,0.1623529411764706)\", \"family\": \"Arial\", \"size\": 16}, \"showarrow\": false, \"text\": \"100.0%\", \"x\": \"mobility_transit_stations\", \"xanchor\": \"center\", \"xref\": \"x\", \"y\": \"mobility_transit_stations\", \"yref\": \"y\"}, {\"align\": \"center\", \"font\": {\"color\": \"rgb(0.0,0.27675509419454053,0.11006535947712418)\", \"family\": \"Arial\", \"size\": 16}, \"showarrow\": false, \"text\": \"-9.2%\", \"x\": \"mobility_parks\", \"xanchor\": \"center\", \"xref\": \"x\", \"y\": \"mobility_transit_stations\", \"yref\": \"y\"}, {\"align\": \"center\", \"font\": {\"color\": \"rgb(0.9420530565167243,0.9779008073817763,0.9297808535178778)\", \"family\": \"Arial\", \"size\": 16}, \"showarrow\": false, \"text\": \"-56.2%\", \"x\": \"mobility_residential\", \"xanchor\": \"center\", \"xref\": \"x\", \"y\": \"mobility_transit_stations\", \"yref\": \"y\"}, {\"align\": \"center\", \"font\": {\"color\": \"rgb(0.0,0.3019761630142253,0.12052287581699346)\", \"family\": \"Arial\", \"size\": 16}, \"showarrow\": false, \"text\": \"20.0%\", \"x\": \"mobility_retail_and_recreation\", \"xanchor\": \"center\", \"xref\": \"x\", \"y\": \"mobility_parks\", \"yref\": \"y\"}, {\"align\": \"center\", \"font\": {\"color\": \"rgb(0.0,0.2918877354863514,0.11633986928104575)\", \"family\": \"Arial\", \"size\": 16}, \"showarrow\": false, \"text\": \"19.2%\", \"x\": \"mobility_grocery_and_pharmacy\", \"xanchor\": \"center\", \"xref\": \"x\", \"y\": \"mobility_parks\", \"yref\": \"y\"}, {\"align\": \"center\", \"font\": {\"color\": \"rgb(0.9641983852364475,0.9865128796616687,0.9556170703575548)\", \"family\": \"Arial\", \"size\": 16}, \"showarrow\": false, \"text\": \"-12.7%\", \"x\": \"mobility_workplaces\", \"xanchor\": \"center\", \"xref\": \"x\", \"y\": \"mobility_parks\", \"yref\": \"y\"}, {\"align\": \"center\", \"font\": {\"color\": \"rgb(0.0,0.27675509419454053,0.11006535947712418)\", \"family\": \"Arial\", \"size\": 16}, \"showarrow\": false, \"text\": \"-9.2%\", \"x\": \"mobility_transit_stations\", \"xanchor\": \"center\", \"xref\": \"x\", \"y\": \"mobility_parks\", \"yref\": \"y\"}, {\"align\": \"center\", \"font\": {\"color\": \"rgb(0.0,0.40286043829296425,0.1623529411764706)\", \"family\": \"Arial\", \"size\": 16}, \"showarrow\": false, \"text\": \"100.0%\", \"x\": \"mobility_parks\", \"xanchor\": \"center\", \"xref\": \"x\", \"y\": \"mobility_parks\", \"yref\": \"y\"}, {\"align\": \"center\", \"font\": {\"color\": \"rgb(0.0,0.2918877354863514,0.11633986928104575)\", \"family\": \"Arial\", \"size\": 16}, \"showarrow\": false, \"text\": \"14.0%\", \"x\": \"mobility_residential\", \"xanchor\": \"center\", \"xref\": \"x\", \"y\": \"mobility_parks\", \"yref\": \"y\"}, {\"align\": \"center\", \"font\": {\"color\": \"rgb(0.953125720876586,0.9822068435217225,0.9426989619377163)\", \"family\": \"Arial\", \"size\": 16}, \"showarrow\": false, \"text\": \"-34.4%\", \"x\": \"mobility_retail_and_recreation\", \"xanchor\": \"center\", \"xref\": \"x\", \"y\": \"mobility_residential\", \"yref\": \"y\"}, {\"align\": \"center\", \"font\": {\"color\": \"rgb(0.9575547866205306,0.9839292579777009,0.9478662053056517)\", \"family\": \"Arial\", \"size\": 16}, \"showarrow\": false, \"text\": \"-22.5%\", \"x\": \"mobility_grocery_and_pharmacy\", \"xanchor\": \"center\", \"xref\": \"x\", \"y\": \"mobility_residential\", \"yref\": \"y\"}, {\"align\": \"center\", \"font\": {\"color\": \"rgb(0.9309803921568628,0.9735947712418301,0.9168627450980392)\", \"family\": \"Arial\", \"size\": 16}, \"showarrow\": false, \"text\": \"-77.2%\", \"x\": \"mobility_workplaces\", \"xanchor\": \"center\", \"xref\": \"x\", \"y\": \"mobility_residential\", \"yref\": \"y\"}, {\"align\": \"center\", \"font\": {\"color\": \"rgb(0.9420530565167243,0.9779008073817763,0.9297808535178778)\", \"family\": \"Arial\", \"size\": 16}, \"showarrow\": false, \"text\": \"-56.2%\", \"x\": \"mobility_transit_stations\", \"xanchor\": \"center\", \"xref\": \"x\", \"y\": \"mobility_residential\", \"yref\": \"y\"}, {\"align\": \"center\", \"font\": {\"color\": \"rgb(0.0,0.2918877354863514,0.11633986928104575)\", \"family\": \"Arial\", \"size\": 16}, \"showarrow\": false, \"text\": \"14.0%\", \"x\": \"mobility_parks\", \"xanchor\": \"center\", \"xref\": \"x\", \"y\": \"mobility_residential\", \"yref\": \"y\"}, {\"align\": \"center\", \"font\": {\"color\": \"rgb(0.0,0.40286043829296425,0.1623529411764706)\", \"family\": \"Arial\", \"size\": 16}, \"showarrow\": false, \"text\": \"100.0%\", \"x\": \"mobility_residential\", \"xanchor\": \"center\", \"xref\": \"x\", \"y\": \"mobility_residential\", \"yref\": \"y\"}], \"height\": 400, \"legend\": {\"bgcolor\": \"#F5F6F9\", \"font\": {\"color\": \"#4D5663\", \"family\": \"Arial\", \"size\": 18}}, \"margin\": {\"b\": 0, \"l\": 0, \"r\": 120, \"t\": 0}, \"paper_bgcolor\": \"#FFFFFF\", \"plot_bgcolor\": \"#FFFFFF\", \"template\": {\"data\": {\"bar\": [{\"error_x\": {\"color\": \"#2a3f5f\"}, \"error_y\": {\"color\": \"#2a3f5f\"}, \"marker\": {\"line\": {\"color\": \"#E5ECF6\", \"width\": 0.5}}, \"type\": \"bar\"}], \"barpolar\": [{\"marker\": {\"line\": {\"color\": \"#E5ECF6\", \"width\": 0.5}}, \"type\": \"barpolar\"}], \"carpet\": [{\"aaxis\": {\"endlinecolor\": \"#2a3f5f\", \"gridcolor\": \"white\", \"linecolor\": \"white\", \"minorgridcolor\": \"white\", \"startlinecolor\": \"#2a3f5f\"}, \"baxis\": {\"endlinecolor\": \"#2a3f5f\", \"gridcolor\": \"white\", \"linecolor\": \"white\", \"minorgridcolor\": \"white\", \"startlinecolor\": \"#2a3f5f\"}, \"type\": \"carpet\"}], \"choropleth\": [{\"colorbar\": {\"outlinewidth\": 0, \"ticks\": \"\"}, \"type\": \"choropleth\"}], \"contour\": [{\"colorbar\": {\"outlinewidth\": 0, \"ticks\": \"\"}, \"colorscale\": [[0.0, \"#0d0887\"], [0.1111111111111111, \"#46039f\"], [0.2222222222222222, \"#7201a8\"], [0.3333333333333333, \"#9c179e\"], [0.4444444444444444, \"#bd3786\"], [0.5555555555555556, \"#d8576b\"], [0.6666666666666666, \"#ed7953\"], [0.7777777777777778, \"#fb9f3a\"], [0.8888888888888888, \"#fdca26\"], [1.0, \"#f0f921\"]], \"type\": \"contour\"}], \"contourcarpet\": [{\"colorbar\": {\"outlinewidth\": 0, \"ticks\": \"\"}, \"type\": \"contourcarpet\"}], \"heatmap\": [{\"colorbar\": {\"outlinewidth\": 0, \"ticks\": \"\"}, \"colorscale\": [[0.0, \"#0d0887\"], [0.1111111111111111, \"#46039f\"], [0.2222222222222222, \"#7201a8\"], [0.3333333333333333, \"#9c179e\"], [0.4444444444444444, \"#bd3786\"], [0.5555555555555556, \"#d8576b\"], [0.6666666666666666, \"#ed7953\"], [0.7777777777777778, \"#fb9f3a\"], [0.8888888888888888, \"#fdca26\"], [1.0, \"#f0f921\"]], \"type\": \"heatmap\"}], \"heatmapgl\": [{\"colorbar\": {\"outlinewidth\": 0, \"ticks\": \"\"}, \"colorscale\": [[0.0, \"#0d0887\"], [0.1111111111111111, \"#46039f\"], [0.2222222222222222, \"#7201a8\"], [0.3333333333333333, \"#9c179e\"], [0.4444444444444444, \"#bd3786\"], [0.5555555555555556, \"#d8576b\"], [0.6666666666666666, \"#ed7953\"], [0.7777777777777778, \"#fb9f3a\"], [0.8888888888888888, \"#fdca26\"], [1.0, \"#f0f921\"]], \"type\": \"heatmapgl\"}], \"histogram\": [{\"marker\": {\"colorbar\": {\"outlinewidth\": 0, \"ticks\": \"\"}}, \"type\": \"histogram\"}], \"histogram2d\": [{\"colorbar\": {\"outlinewidth\": 0, \"ticks\": \"\"}, \"colorscale\": [[0.0, \"#0d0887\"], [0.1111111111111111, \"#46039f\"], [0.2222222222222222, \"#7201a8\"], [0.3333333333333333, \"#9c179e\"], [0.4444444444444444, \"#bd3786\"], [0.5555555555555556, \"#d8576b\"], [0.6666666666666666, \"#ed7953\"], [0.7777777777777778, \"#fb9f3a\"], [0.8888888888888888, \"#fdca26\"], [1.0, \"#f0f921\"]], \"type\": \"histogram2d\"}], \"histogram2dcontour\": [{\"colorbar\": {\"outlinewidth\": 0, \"ticks\": \"\"}, \"colorscale\": [[0.0, \"#0d0887\"], [0.1111111111111111, \"#46039f\"], [0.2222222222222222, \"#7201a8\"], [0.3333333333333333, \"#9c179e\"], [0.4444444444444444, \"#bd3786\"], [0.5555555555555556, \"#d8576b\"], [0.6666666666666666, \"#ed7953\"], [0.7777777777777778, \"#fb9f3a\"], [0.8888888888888888, \"#fdca26\"], [1.0, \"#f0f921\"]], \"type\": \"histogram2dcontour\"}], \"mesh3d\": [{\"colorbar\": {\"outlinewidth\": 0, \"ticks\": \"\"}, \"type\": \"mesh3d\"}], \"parcoords\": [{\"line\": {\"colorbar\": {\"outlinewidth\": 0, \"ticks\": \"\"}}, \"type\": \"parcoords\"}], \"pie\": [{\"automargin\": true, \"type\": \"pie\"}], \"scatter\": [{\"marker\": {\"colorbar\": {\"outlinewidth\": 0, \"ticks\": \"\"}}, \"type\": \"scatter\"}], \"scatter3d\": [{\"line\": {\"colorbar\": {\"outlinewidth\": 0, \"ticks\": \"\"}}, \"marker\": {\"colorbar\": {\"outlinewidth\": 0, \"ticks\": \"\"}}, \"type\": \"scatter3d\"}], \"scattercarpet\": [{\"marker\": {\"colorbar\": {\"outlinewidth\": 0, \"ticks\": \"\"}}, \"type\": \"scattercarpet\"}], \"scattergeo\": [{\"marker\": {\"colorbar\": {\"outlinewidth\": 0, \"ticks\": \"\"}}, \"type\": \"scattergeo\"}], \"scattergl\": [{\"marker\": {\"colorbar\": {\"outlinewidth\": 0, \"ticks\": \"\"}}, \"type\": \"scattergl\"}], \"scattermapbox\": [{\"marker\": {\"colorbar\": {\"outlinewidth\": 0, \"ticks\": \"\"}}, \"type\": \"scattermapbox\"}], \"scatterpolar\": [{\"marker\": {\"colorbar\": {\"outlinewidth\": 0, \"ticks\": \"\"}}, \"type\": \"scatterpolar\"}], \"scatterpolargl\": [{\"marker\": {\"colorbar\": {\"outlinewidth\": 0, \"ticks\": \"\"}}, \"type\": \"scatterpolargl\"}], \"scatterternary\": [{\"marker\": {\"colorbar\": {\"outlinewidth\": 0, \"ticks\": \"\"}}, \"type\": \"scatterternary\"}], \"surface\": [{\"colorbar\": {\"outlinewidth\": 0, \"ticks\": \"\"}, \"colorscale\": [[0.0, \"#0d0887\"], [0.1111111111111111, \"#46039f\"], [0.2222222222222222, \"#7201a8\"], [0.3333333333333333, \"#9c179e\"], [0.4444444444444444, \"#bd3786\"], [0.5555555555555556, \"#d8576b\"], [0.6666666666666666, \"#ed7953\"], [0.7777777777777778, \"#fb9f3a\"], [0.8888888888888888, \"#fdca26\"], [1.0, \"#f0f921\"]], \"type\": \"surface\"}], \"table\": [{\"cells\": {\"fill\": {\"color\": \"#EBF0F8\"}, \"line\": {\"color\": \"white\"}}, \"header\": {\"fill\": {\"color\": \"#C8D4E3\"}, \"line\": {\"color\": \"white\"}}, \"type\": \"table\"}]}, \"layout\": {\"annotationdefaults\": {\"arrowcolor\": \"#2a3f5f\", \"arrowhead\": 0, \"arrowwidth\": 1}, \"autotypenumbers\": \"strict\", \"coloraxis\": {\"colorbar\": {\"outlinewidth\": 0, \"ticks\": \"\"}}, \"colorscale\": {\"diverging\": [[0, \"#8e0152\"], [0.1, \"#c51b7d\"], [0.2, \"#de77ae\"], [0.3, \"#f1b6da\"], [0.4, \"#fde0ef\"], [0.5, \"#f7f7f7\"], [0.6, \"#e6f5d0\"], [0.7, \"#b8e186\"], [0.8, \"#7fbc41\"], [0.9, \"#4d9221\"], [1, \"#276419\"]], \"sequential\": [[0.0, \"#0d0887\"], [0.1111111111111111, \"#46039f\"], [0.2222222222222222, \"#7201a8\"], [0.3333333333333333, \"#9c179e\"], [0.4444444444444444, \"#bd3786\"], [0.5555555555555556, \"#d8576b\"], [0.6666666666666666, \"#ed7953\"], [0.7777777777777778, \"#fb9f3a\"], [0.8888888888888888, \"#fdca26\"], [1.0, \"#f0f921\"]], \"sequentialminus\": [[0.0, \"#0d0887\"], [0.1111111111111111, \"#46039f\"], [0.2222222222222222, \"#7201a8\"], [0.3333333333333333, \"#9c179e\"], [0.4444444444444444, \"#bd3786\"], [0.5555555555555556, \"#d8576b\"], [0.6666666666666666, \"#ed7953\"], [0.7777777777777778, \"#fb9f3a\"], [0.8888888888888888, \"#fdca26\"], [1.0, \"#f0f921\"]]}, \"colorway\": [\"#636efa\", \"#EF553B\", \"#00cc96\", \"#ab63fa\", \"#FFA15A\", \"#19d3f3\", \"#FF6692\", \"#B6E880\", \"#FF97FF\", \"#FECB52\"], \"font\": {\"color\": \"#2a3f5f\"}, \"geo\": {\"bgcolor\": \"white\", \"lakecolor\": \"white\", \"landcolor\": \"#E5ECF6\", \"showlakes\": true, \"showland\": true, \"subunitcolor\": \"white\"}, \"hoverlabel\": {\"align\": \"left\"}, \"hovermode\": \"closest\", \"mapbox\": {\"style\": \"light\"}, \"paper_bgcolor\": \"white\", \"plot_bgcolor\": \"#E5ECF6\", \"polar\": {\"angularaxis\": {\"gridcolor\": \"white\", \"linecolor\": \"white\", \"ticks\": \"\"}, \"bgcolor\": \"#E5ECF6\", \"radialaxis\": {\"gridcolor\": \"white\", \"linecolor\": \"white\", \"ticks\": \"\"}}, \"scene\": {\"xaxis\": {\"backgroundcolor\": \"#E5ECF6\", \"gridcolor\": \"white\", \"gridwidth\": 2, \"linecolor\": \"white\", \"showbackground\": true, \"ticks\": \"\", \"zerolinecolor\": \"white\"}, \"yaxis\": {\"backgroundcolor\": \"#E5ECF6\", \"gridcolor\": \"white\", \"gridwidth\": 2, \"linecolor\": \"white\", \"showbackground\": true, \"ticks\": \"\", \"zerolinecolor\": \"white\"}, \"zaxis\": {\"backgroundcolor\": \"#E5ECF6\", \"gridcolor\": \"white\", \"gridwidth\": 2, \"linecolor\": \"white\", \"showbackground\": true, \"ticks\": \"\", \"zerolinecolor\": \"white\"}}, \"shapedefaults\": {\"line\": {\"color\": \"#2a3f5f\"}}, \"ternary\": {\"aaxis\": {\"gridcolor\": \"white\", \"linecolor\": \"white\", \"ticks\": \"\"}, \"baxis\": {\"gridcolor\": \"white\", \"linecolor\": \"white\", \"ticks\": \"\"}, \"bgcolor\": \"#E5ECF6\", \"caxis\": {\"gridcolor\": \"white\", \"linecolor\": \"white\", \"ticks\": \"\"}}, \"title\": {\"x\": 0.05}, \"xaxis\": {\"automargin\": true, \"gridcolor\": \"white\", \"linecolor\": \"white\", \"ticks\": \"\", \"title\": {\"standoff\": 15}, \"zerolinecolor\": \"white\", \"zerolinewidth\": 2}, \"yaxis\": {\"automargin\": true, \"gridcolor\": \"white\", \"linecolor\": \"white\", \"ticks\": \"\", \"title\": {\"standoff\": 15}, \"zerolinecolor\": \"white\", \"zerolinewidth\": 2}}}, \"title\": {\"font\": {\"color\": \"#4D5663\"}}, \"width\": 800, \"xaxis\": {\"gridcolor\": \"#E1E5ED\", \"showgrid\": false, \"tickfont\": {\"color\": \"#4D5663\", \"family\": \"Arial\", \"size\": 15}, \"title\": {\"font\": {\"color\": \"#4D5663\", \"family\": \"Bree Serif\", \"size\": 18}, \"text\": \"\"}, \"zerolinecolor\": \"#E1E5ED\"}, \"yaxis\": {\"gridcolor\": \"#E1E5ED\", \"showgrid\": false, \"tickfont\": {\"color\": \"#4D5663\", \"family\": \"Arial\", \"size\": 15}, \"tickformat\": \".0%\", \"title\": {\"font\": {\"color\": \"#4D5663\", \"family\": \"Bree Serif\", \"size\": 18}, \"text\": \"\"}, \"zerolinecolor\": \"#E1E5ED\"}},                        {\"responsive\": true}                    ).then(function(){\n",
       "                            \n",
       "var gd = document.getElementById('6c14431a-df1a-48e2-8540-614868c73a3b');\n",
       "var x = new MutationObserver(function (mutations, observer) {{\n",
       "        var display = window.getComputedStyle(gd).display;\n",
       "        if (!display || display === 'none') {{\n",
       "            console.log([gd, 'removed!']);\n",
       "            Plotly.purge(gd);\n",
       "            observer.disconnect();\n",
       "        }}\n",
       "}});\n",
       "\n",
       "// Listen for the removal of the full notebook cells\n",
       "var notebookContainer = gd.closest('#notebook-container');\n",
       "if (notebookContainer) {{\n",
       "    x.observe(notebookContainer, {childList: true});\n",
       "}}\n",
       "\n",
       "// Listen for the clearing of the current output cell\n",
       "var outputEl = gd.closest('.output');\n",
       "if (outputEl) {{\n",
       "    x.observe(outputEl, {childList: true});\n",
       "}}\n",
       "\n",
       "                        })                };                });            </script>        </div>"
      ]
     },
     "metadata": {},
     "output_type": "display_data"
    }
   ],
   "source": [
    "iplot(df_graph)"
   ]
  },
  {
   "cell_type": "markdown",
   "metadata": {},
   "source": [
    "## PCA"
   ]
  },
  {
   "cell_type": "code",
   "execution_count": 9,
   "metadata": {},
   "outputs": [],
   "source": [
    "from sklearn.decomposition import PCA"
   ]
  },
  {
   "cell_type": "code",
   "execution_count": 10,
   "metadata": {},
   "outputs": [],
   "source": [
    "df_pca = df[mobility_measures].copy().dropna()\n",
    "df_pca = (df_pca-df_pca.mean())/df_pca.std()"
   ]
  },
  {
   "cell_type": "code",
   "execution_count": 11,
   "metadata": {},
   "outputs": [],
   "source": [
    "pca = PCA(n_components=2)\n",
    "result = pca.fit_transform(df_pca)"
   ]
  },
  {
   "cell_type": "code",
   "execution_count": 12,
   "metadata": {},
   "outputs": [
    {
     "name": "stdout",
     "output_type": "stream",
     "text": [
      "[[-0.42494528 -0.36167524  0.00940933 -0.45926761 -0.51319311  0.46284996]\n",
      " [ 0.34914686  0.42526815  0.74153556 -0.11927157 -0.18462603  0.31473166]]\n"
     ]
    }
   ],
   "source": [
    "print(pca.components_)"
   ]
  },
  {
   "cell_type": "code",
   "execution_count": 13,
   "metadata": {},
   "outputs": [
    {
     "name": "stdout",
     "output_type": "stream",
     "text": [
      "[0.48485873 0.21842397]\n"
     ]
    }
   ],
   "source": [
    "print(pca.explained_variance_ratio_)"
   ]
  },
  {
   "cell_type": "code",
   "execution_count": 17,
   "metadata": {},
   "outputs": [
    {
     "name": "stdout",
     "output_type": "stream",
     "text": [
      "Only 70% of variation is explained by first two factors\n"
     ]
    }
   ],
   "source": [
    "print(\"Only 70% of variation is explained by first two factors\")"
   ]
  },
  {
   "cell_type": "code",
   "execution_count": 16,
   "metadata": {},
   "outputs": [
    {
     "data": {
      "text/plain": [
       "70"
      ]
     },
     "execution_count": 16,
     "metadata": {},
     "output_type": "execute_result"
    }
   ],
   "source": [
    "48+22"
   ]
  },
  {
   "cell_type": "code",
   "execution_count": 18,
   "metadata": {},
   "outputs": [],
   "source": [
    "df_pca['1st_component'] = pd.DataFrame(result)[0]\n",
    "df_pca['2nd_component'] = pd.DataFrame(result)[1]"
   ]
  },
  {
   "cell_type": "code",
   "execution_count": 21,
   "metadata": {},
   "outputs": [
    {
     "data": {
      "text/html": [
       "<div>\n",
       "<style scoped>\n",
       "    .dataframe tbody tr th:only-of-type {\n",
       "        vertical-align: middle;\n",
       "    }\n",
       "\n",
       "    .dataframe tbody tr th {\n",
       "        vertical-align: top;\n",
       "    }\n",
       "\n",
       "    .dataframe thead th {\n",
       "        text-align: right;\n",
       "    }\n",
       "</style>\n",
       "<table border=\"1\" class=\"dataframe\">\n",
       "  <thead>\n",
       "    <tr style=\"text-align: right;\">\n",
       "      <th></th>\n",
       "      <th>1st_component</th>\n",
       "      <th>2nd_component</th>\n",
       "    </tr>\n",
       "  </thead>\n",
       "  <tbody>\n",
       "    <tr>\n",
       "      <th>mobility_retail_and_recreation</th>\n",
       "      <td>-0.19</td>\n",
       "      <td>0.11</td>\n",
       "    </tr>\n",
       "    <tr>\n",
       "      <th>mobility_grocery_and_pharmacy</th>\n",
       "      <td>-0.07</td>\n",
       "      <td>0.01</td>\n",
       "    </tr>\n",
       "    <tr>\n",
       "      <th>mobility_parks</th>\n",
       "      <td>-0.09</td>\n",
       "      <td>0.11</td>\n",
       "    </tr>\n",
       "    <tr>\n",
       "      <th>mobility_transit_stations</th>\n",
       "      <td>-0.22</td>\n",
       "      <td>-0.10</td>\n",
       "    </tr>\n",
       "    <tr>\n",
       "      <th>mobility_workplaces</th>\n",
       "      <td>-0.23</td>\n",
       "      <td>0.03</td>\n",
       "    </tr>\n",
       "    <tr>\n",
       "      <th>mobility_residential</th>\n",
       "      <td>0.33</td>\n",
       "      <td>0.01</td>\n",
       "    </tr>\n",
       "    <tr>\n",
       "      <th>1st_component</th>\n",
       "      <td>1.00</td>\n",
       "      <td>-0.00</td>\n",
       "    </tr>\n",
       "    <tr>\n",
       "      <th>2nd_component</th>\n",
       "      <td>-0.00</td>\n",
       "      <td>1.00</td>\n",
       "    </tr>\n",
       "  </tbody>\n",
       "</table>\n",
       "</div>"
      ],
      "text/plain": [
       "                                1st_component  2nd_component\n",
       "mobility_retail_and_recreation          -0.19           0.11\n",
       "mobility_grocery_and_pharmacy           -0.07           0.01\n",
       "mobility_parks                          -0.09           0.11\n",
       "mobility_transit_stations               -0.22          -0.10\n",
       "mobility_workplaces                     -0.23           0.03\n",
       "mobility_residential                     0.33           0.01\n",
       "1st_component                            1.00          -0.00\n",
       "2nd_component                           -0.00           1.00"
      ]
     },
     "execution_count": 21,
     "metadata": {},
     "output_type": "execute_result"
    }
   ],
   "source": [
    "#checking the relationship between factors and mobility indicators\n",
    "df_pca.corr()[['1st_component','2nd_component']]"
   ]
  },
  {
   "cell_type": "markdown",
   "metadata": {},
   "source": [
    "# Clustering municipalities"
   ]
  },
  {
   "cell_type": "code",
   "execution_count": 22,
   "metadata": {},
   "outputs": [],
   "source": [
    "from sklearn.cluster import KMeans\n",
    "\n",
    "df_pca = df.set_index('area')[mobility_measures].copy().dropna()\n",
    "df_pca = (df_pca-df_pca.mean())/df_pca.std()\n",
    "km = KMeans(n_clusters=3, random_state=100).fit(df_pca)"
   ]
  },
  {
   "cell_type": "code",
   "execution_count": 23,
   "metadata": {},
   "outputs": [],
   "source": [
    "df_pca['labels']=km.labels_"
   ]
  },
  {
   "cell_type": "code",
   "execution_count": 24,
   "metadata": {},
   "outputs": [
    {
     "data": {
      "text/html": [
       "<div>\n",
       "<style scoped>\n",
       "    .dataframe tbody tr th:only-of-type {\n",
       "        vertical-align: middle;\n",
       "    }\n",
       "\n",
       "    .dataframe tbody tr th {\n",
       "        vertical-align: top;\n",
       "    }\n",
       "\n",
       "    .dataframe thead th {\n",
       "        text-align: right;\n",
       "    }\n",
       "</style>\n",
       "<table border=\"1\" class=\"dataframe\">\n",
       "  <thead>\n",
       "    <tr style=\"text-align: right;\">\n",
       "      <th></th>\n",
       "      <th>mobility_retail_and_recreation</th>\n",
       "      <th>mobility_grocery_and_pharmacy</th>\n",
       "      <th>mobility_parks</th>\n",
       "      <th>mobility_transit_stations</th>\n",
       "      <th>mobility_workplaces</th>\n",
       "      <th>mobility_residential</th>\n",
       "      <th>labels</th>\n",
       "    </tr>\n",
       "    <tr>\n",
       "      <th>area</th>\n",
       "      <th></th>\n",
       "      <th></th>\n",
       "      <th></th>\n",
       "      <th></th>\n",
       "      <th></th>\n",
       "      <th></th>\n",
       "      <th></th>\n",
       "    </tr>\n",
       "  </thead>\n",
       "  <tbody>\n",
       "    <tr>\n",
       "      <th>Derby</th>\n",
       "      <td>0.09</td>\n",
       "      <td>0.61</td>\n",
       "      <td>1.32</td>\n",
       "      <td>-1.35</td>\n",
       "      <td>-0.16</td>\n",
       "      <td>-0.04</td>\n",
       "      <td>2</td>\n",
       "    </tr>\n",
       "    <tr>\n",
       "      <th>Derbyshire</th>\n",
       "      <td>-0.17</td>\n",
       "      <td>1.07</td>\n",
       "      <td>0.15</td>\n",
       "      <td>1.06</td>\n",
       "      <td>0.18</td>\n",
       "      <td>-0.36</td>\n",
       "      <td>2</td>\n",
       "    </tr>\n",
       "  </tbody>\n",
       "</table>\n",
       "</div>"
      ],
      "text/plain": [
       "            mobility_retail_and_recreation  mobility_grocery_and_pharmacy  \\\n",
       "area                                                                        \n",
       "Derby                                 0.09                           0.61   \n",
       "Derbyshire                           -0.17                           1.07   \n",
       "\n",
       "            mobility_parks  mobility_transit_stations  mobility_workplaces  \\\n",
       "area                                                                         \n",
       "Derby                 1.32                      -1.35                -0.16   \n",
       "Derbyshire            0.15                       1.06                 0.18   \n",
       "\n",
       "            mobility_residential  labels  \n",
       "area                                      \n",
       "Derby                      -0.04       2  \n",
       "Derbyshire                 -0.36       2  "
      ]
     },
     "execution_count": 24,
     "metadata": {},
     "output_type": "execute_result"
    }
   ],
   "source": [
    "df_pca.head(2)"
   ]
  },
  {
   "cell_type": "code",
   "execution_count": 25,
   "metadata": {},
   "outputs": [
    {
     "data": {
      "text/plain": [
       "103"
      ]
     },
     "execution_count": 25,
     "metadata": {},
     "output_type": "execute_result"
    }
   ],
   "source": [
    "df_pca.shape[0]"
   ]
  },
  {
   "cell_type": "code",
   "execution_count": 26,
   "metadata": {},
   "outputs": [],
   "source": [
    "df_geopandas = df_pca.join(df.set_index('area')[['latitude','longitude']])"
   ]
  },
  {
   "cell_type": "code",
   "execution_count": 27,
   "metadata": {},
   "outputs": [
    {
     "data": {
      "text/plain": [
       "103"
      ]
     },
     "execution_count": 27,
     "metadata": {},
     "output_type": "execute_result"
    }
   ],
   "source": [
    "df_geopandas.shape[0]"
   ]
  },
  {
   "cell_type": "code",
   "execution_count": 28,
   "metadata": {},
   "outputs": [
    {
     "data": {
      "text/html": [
       "<div>\n",
       "<style scoped>\n",
       "    .dataframe tbody tr th:only-of-type {\n",
       "        vertical-align: middle;\n",
       "    }\n",
       "\n",
       "    .dataframe tbody tr th {\n",
       "        vertical-align: top;\n",
       "    }\n",
       "\n",
       "    .dataframe thead th {\n",
       "        text-align: right;\n",
       "    }\n",
       "</style>\n",
       "<table border=\"1\" class=\"dataframe\">\n",
       "  <thead>\n",
       "    <tr style=\"text-align: right;\">\n",
       "      <th></th>\n",
       "      <th>mobility_retail_and_recreation</th>\n",
       "      <th>mobility_grocery_and_pharmacy</th>\n",
       "      <th>mobility_parks</th>\n",
       "      <th>mobility_transit_stations</th>\n",
       "      <th>mobility_workplaces</th>\n",
       "      <th>mobility_residential</th>\n",
       "    </tr>\n",
       "    <tr>\n",
       "      <th>labels</th>\n",
       "      <th></th>\n",
       "      <th></th>\n",
       "      <th></th>\n",
       "      <th></th>\n",
       "      <th></th>\n",
       "      <th></th>\n",
       "    </tr>\n",
       "  </thead>\n",
       "  <tbody>\n",
       "    <tr>\n",
       "      <th>0</th>\n",
       "      <td>0.29</td>\n",
       "      <td>-0.05</td>\n",
       "      <td>-0.84</td>\n",
       "      <td>0.78</td>\n",
       "      <td>0.87</td>\n",
       "      <td>-0.78</td>\n",
       "    </tr>\n",
       "    <tr>\n",
       "      <th>1</th>\n",
       "      <td>-1.05</td>\n",
       "      <td>-0.93</td>\n",
       "      <td>-0.18</td>\n",
       "      <td>-0.95</td>\n",
       "      <td>-1.11</td>\n",
       "      <td>1.00</td>\n",
       "    </tr>\n",
       "    <tr>\n",
       "      <th>2</th>\n",
       "      <td>0.43</td>\n",
       "      <td>0.57</td>\n",
       "      <td>0.66</td>\n",
       "      <td>0.04</td>\n",
       "      <td>0.08</td>\n",
       "      <td>-0.08</td>\n",
       "    </tr>\n",
       "  </tbody>\n",
       "</table>\n",
       "</div>"
      ],
      "text/plain": [
       "        mobility_retail_and_recreation  mobility_grocery_and_pharmacy  \\\n",
       "labels                                                                  \n",
       "0                                 0.29                          -0.05   \n",
       "1                                -1.05                          -0.93   \n",
       "2                                 0.43                           0.57   \n",
       "\n",
       "        mobility_parks  mobility_transit_stations  mobility_workplaces  \\\n",
       "labels                                                                   \n",
       "0                -0.84                       0.78                 0.87   \n",
       "1                -0.18                      -0.95                -1.11   \n",
       "2                 0.66                       0.04                 0.08   \n",
       "\n",
       "        mobility_residential  \n",
       "labels                        \n",
       "0                      -0.78  \n",
       "1                       1.00  \n",
       "2                      -0.08  "
      ]
     },
     "execution_count": 28,
     "metadata": {},
     "output_type": "execute_result"
    }
   ],
   "source": [
    "mobility_columns = [x for x in df_geopandas.columns if 'mobility' in x]\n",
    "df_geopandas.groupby('labels')[mobility_columns].mean()"
   ]
  },
  {
   "cell_type": "code",
   "execution_count": 29,
   "metadata": {},
   "outputs": [],
   "source": [
    "cluster_dict = {0:'Workplace Mobile',1:'Residential Mobile',2:'Neutral'}\n",
    "df_geopandas = df_geopandas.replace({\"labels\": cluster_dict})"
   ]
  },
  {
   "cell_type": "code",
   "execution_count": 30,
   "metadata": {},
   "outputs": [],
   "source": [
    "df_geopandas.to_pickle(r'data/clusters.pkl')"
   ]
  },
  {
   "cell_type": "code",
   "execution_count": 31,
   "metadata": {},
   "outputs": [
    {
     "data": {
      "text/html": [
       "<div>\n",
       "<style scoped>\n",
       "    .dataframe tbody tr th:only-of-type {\n",
       "        vertical-align: middle;\n",
       "    }\n",
       "\n",
       "    .dataframe tbody tr th {\n",
       "        vertical-align: top;\n",
       "    }\n",
       "\n",
       "    .dataframe thead th {\n",
       "        text-align: right;\n",
       "    }\n",
       "</style>\n",
       "<table border=\"1\" class=\"dataframe\">\n",
       "  <thead>\n",
       "    <tr style=\"text-align: right;\">\n",
       "      <th></th>\n",
       "      <th>mobility_retail_and_recreation</th>\n",
       "      <th>mobility_grocery_and_pharmacy</th>\n",
       "      <th>mobility_parks</th>\n",
       "      <th>mobility_transit_stations</th>\n",
       "      <th>mobility_workplaces</th>\n",
       "      <th>mobility_residential</th>\n",
       "      <th>labels</th>\n",
       "      <th>latitude</th>\n",
       "      <th>longitude</th>\n",
       "    </tr>\n",
       "    <tr>\n",
       "      <th>area</th>\n",
       "      <th></th>\n",
       "      <th></th>\n",
       "      <th></th>\n",
       "      <th></th>\n",
       "      <th></th>\n",
       "      <th></th>\n",
       "      <th></th>\n",
       "      <th></th>\n",
       "      <th></th>\n",
       "    </tr>\n",
       "  </thead>\n",
       "  <tbody>\n",
       "    <tr>\n",
       "      <th>Wokingham</th>\n",
       "      <td>0.80</td>\n",
       "      <td>-2.03</td>\n",
       "      <td>0.98</td>\n",
       "      <td>-0.36</td>\n",
       "      <td>-2.62</td>\n",
       "      <td>3.04</td>\n",
       "      <td>Residential Mobile</td>\n",
       "      <td>51.41</td>\n",
       "      <td>-0.83</td>\n",
       "    </tr>\n",
       "    <tr>\n",
       "      <th>Bath and North East Somerset</th>\n",
       "      <td>-3.01</td>\n",
       "      <td>-2.11</td>\n",
       "      <td>-0.95</td>\n",
       "      <td>-0.86</td>\n",
       "      <td>-2.21</td>\n",
       "      <td>1.81</td>\n",
       "      <td>Residential Mobile</td>\n",
       "      <td>51.39</td>\n",
       "      <td>-2.32</td>\n",
       "    </tr>\n",
       "    <tr>\n",
       "      <th>Brighton and Hove</th>\n",
       "      <td>-1.80</td>\n",
       "      <td>-1.35</td>\n",
       "      <td>0.43</td>\n",
       "      <td>-0.71</td>\n",
       "      <td>-2.15</td>\n",
       "      <td>1.67</td>\n",
       "      <td>Residential Mobile</td>\n",
       "      <td>50.83</td>\n",
       "      <td>-0.15</td>\n",
       "    </tr>\n",
       "    <tr>\n",
       "      <th>Windsor and Maidenhead</th>\n",
       "      <td>-1.39</td>\n",
       "      <td>0.25</td>\n",
       "      <td>-1.98</td>\n",
       "      <td>-0.98</td>\n",
       "      <td>-1.98</td>\n",
       "      <td>2.47</td>\n",
       "      <td>Residential Mobile</td>\n",
       "      <td>51.47</td>\n",
       "      <td>-0.67</td>\n",
       "    </tr>\n",
       "    <tr>\n",
       "      <th>York</th>\n",
       "      <td>-1.45</td>\n",
       "      <td>-1.94</td>\n",
       "      <td>-1.52</td>\n",
       "      <td>-1.64</td>\n",
       "      <td>-1.97</td>\n",
       "      <td>1.51</td>\n",
       "      <td>Residential Mobile</td>\n",
       "      <td>53.96</td>\n",
       "      <td>-1.09</td>\n",
       "    </tr>\n",
       "  </tbody>\n",
       "</table>\n",
       "</div>"
      ],
      "text/plain": [
       "                              mobility_retail_and_recreation  \\\n",
       "area                                                           \n",
       "Wokingham                                               0.80   \n",
       "Bath and North East Somerset                           -3.01   \n",
       "Brighton and Hove                                      -1.80   \n",
       "Windsor and Maidenhead                                 -1.39   \n",
       "York                                                   -1.45   \n",
       "\n",
       "                              mobility_grocery_and_pharmacy  mobility_parks  \\\n",
       "area                                                                          \n",
       "Wokingham                                             -2.03            0.98   \n",
       "Bath and North East Somerset                          -2.11           -0.95   \n",
       "Brighton and Hove                                     -1.35            0.43   \n",
       "Windsor and Maidenhead                                 0.25           -1.98   \n",
       "York                                                  -1.94           -1.52   \n",
       "\n",
       "                              mobility_transit_stations  mobility_workplaces  \\\n",
       "area                                                                           \n",
       "Wokingham                                         -0.36                -2.62   \n",
       "Bath and North East Somerset                      -0.86                -2.21   \n",
       "Brighton and Hove                                 -0.71                -2.15   \n",
       "Windsor and Maidenhead                            -0.98                -1.98   \n",
       "York                                              -1.64                -1.97   \n",
       "\n",
       "                              mobility_residential              labels  \\\n",
       "area                                                                     \n",
       "Wokingham                                     3.04  Residential Mobile   \n",
       "Bath and North East Somerset                  1.81  Residential Mobile   \n",
       "Brighton and Hove                             1.67  Residential Mobile   \n",
       "Windsor and Maidenhead                        2.47  Residential Mobile   \n",
       "York                                          1.51  Residential Mobile   \n",
       "\n",
       "                              latitude  longitude  \n",
       "area                                               \n",
       "Wokingham                        51.41      -0.83  \n",
       "Bath and North East Somerset     51.39      -2.32  \n",
       "Brighton and Hove                50.83      -0.15  \n",
       "Windsor and Maidenhead           51.47      -0.67  \n",
       "York                             53.96      -1.09  "
      ]
     },
     "execution_count": 31,
     "metadata": {},
     "output_type": "execute_result"
    }
   ],
   "source": [
    "df_geopandas.sort_values(by='mobility_workplaces').head(5)"
   ]
  },
  {
   "cell_type": "code",
   "execution_count": 32,
   "metadata": {},
   "outputs": [
    {
     "data": {
      "text/html": [
       "<div>\n",
       "<style scoped>\n",
       "    .dataframe tbody tr th:only-of-type {\n",
       "        vertical-align: middle;\n",
       "    }\n",
       "\n",
       "    .dataframe tbody tr th {\n",
       "        vertical-align: top;\n",
       "    }\n",
       "\n",
       "    .dataframe thead th {\n",
       "        text-align: right;\n",
       "    }\n",
       "</style>\n",
       "<table border=\"1\" class=\"dataframe\">\n",
       "  <thead>\n",
       "    <tr style=\"text-align: right;\">\n",
       "      <th></th>\n",
       "      <th>mobility_retail_and_recreation</th>\n",
       "      <th>mobility_grocery_and_pharmacy</th>\n",
       "      <th>mobility_parks</th>\n",
       "      <th>mobility_transit_stations</th>\n",
       "      <th>mobility_workplaces</th>\n",
       "      <th>mobility_residential</th>\n",
       "      <th>labels</th>\n",
       "      <th>latitude</th>\n",
       "      <th>longitude</th>\n",
       "    </tr>\n",
       "    <tr>\n",
       "      <th>area</th>\n",
       "      <th></th>\n",
       "      <th></th>\n",
       "      <th></th>\n",
       "      <th></th>\n",
       "      <th></th>\n",
       "      <th></th>\n",
       "      <th></th>\n",
       "      <th></th>\n",
       "      <th></th>\n",
       "    </tr>\n",
       "  </thead>\n",
       "  <tbody>\n",
       "    <tr>\n",
       "      <th>Lincolnshire</th>\n",
       "      <td>0.60</td>\n",
       "      <td>0.56</td>\n",
       "      <td>-1.05</td>\n",
       "      <td>0.69</td>\n",
       "      <td>1.71</td>\n",
       "      <td>-1.56</td>\n",
       "      <td>Workplace Mobile</td>\n",
       "      <td>53.07</td>\n",
       "      <td>-0.18</td>\n",
       "    </tr>\n",
       "    <tr>\n",
       "      <th>Peterborough</th>\n",
       "      <td>1.42</td>\n",
       "      <td>0.01</td>\n",
       "      <td>-0.72</td>\n",
       "      <td>-0.56</td>\n",
       "      <td>1.88</td>\n",
       "      <td>-0.75</td>\n",
       "      <td>Workplace Mobile</td>\n",
       "      <td>52.62</td>\n",
       "      <td>-0.27</td>\n",
       "    </tr>\n",
       "    <tr>\n",
       "      <th>Herefordshire, County of</th>\n",
       "      <td>0.14</td>\n",
       "      <td>-1.07</td>\n",
       "      <td>0.04</td>\n",
       "      <td>1.32</td>\n",
       "      <td>2.10</td>\n",
       "      <td>-0.40</td>\n",
       "      <td>Workplace Mobile</td>\n",
       "      <td>52.08</td>\n",
       "      <td>-2.75</td>\n",
       "    </tr>\n",
       "    <tr>\n",
       "      <th>North Lincolnshire</th>\n",
       "      <td>2.46</td>\n",
       "      <td>1.20</td>\n",
       "      <td>-0.66</td>\n",
       "      <td>2.27</td>\n",
       "      <td>2.14</td>\n",
       "      <td>-1.13</td>\n",
       "      <td>Workplace Mobile</td>\n",
       "      <td>53.60</td>\n",
       "      <td>-0.65</td>\n",
       "    </tr>\n",
       "    <tr>\n",
       "      <th>North East Lincolnshire</th>\n",
       "      <td>0.34</td>\n",
       "      <td>0.71</td>\n",
       "      <td>-1.51</td>\n",
       "      <td>1.21</td>\n",
       "      <td>2.73</td>\n",
       "      <td>-1.32</td>\n",
       "      <td>Workplace Mobile</td>\n",
       "      <td>53.55</td>\n",
       "      <td>-0.10</td>\n",
       "    </tr>\n",
       "  </tbody>\n",
       "</table>\n",
       "</div>"
      ],
      "text/plain": [
       "                          mobility_retail_and_recreation  \\\n",
       "area                                                       \n",
       "Lincolnshire                                        0.60   \n",
       "Peterborough                                        1.42   \n",
       "Herefordshire, County of                            0.14   \n",
       "North Lincolnshire                                  2.46   \n",
       "North East Lincolnshire                             0.34   \n",
       "\n",
       "                          mobility_grocery_and_pharmacy  mobility_parks  \\\n",
       "area                                                                      \n",
       "Lincolnshire                                       0.56           -1.05   \n",
       "Peterborough                                       0.01           -0.72   \n",
       "Herefordshire, County of                          -1.07            0.04   \n",
       "North Lincolnshire                                 1.20           -0.66   \n",
       "North East Lincolnshire                            0.71           -1.51   \n",
       "\n",
       "                          mobility_transit_stations  mobility_workplaces  \\\n",
       "area                                                                       \n",
       "Lincolnshire                                   0.69                 1.71   \n",
       "Peterborough                                  -0.56                 1.88   \n",
       "Herefordshire, County of                       1.32                 2.10   \n",
       "North Lincolnshire                             2.27                 2.14   \n",
       "North East Lincolnshire                        1.21                 2.73   \n",
       "\n",
       "                          mobility_residential            labels  latitude  \\\n",
       "area                                                                         \n",
       "Lincolnshire                             -1.56  Workplace Mobile     53.07   \n",
       "Peterborough                             -0.75  Workplace Mobile     52.62   \n",
       "Herefordshire, County of                 -0.40  Workplace Mobile     52.08   \n",
       "North Lincolnshire                       -1.13  Workplace Mobile     53.60   \n",
       "North East Lincolnshire                  -1.32  Workplace Mobile     53.55   \n",
       "\n",
       "                          longitude  \n",
       "area                                 \n",
       "Lincolnshire                  -0.18  \n",
       "Peterborough                  -0.27  \n",
       "Herefordshire, County of      -2.75  \n",
       "North Lincolnshire            -0.65  \n",
       "North East Lincolnshire       -0.10  "
      ]
     },
     "execution_count": 32,
     "metadata": {},
     "output_type": "execute_result"
    }
   ],
   "source": [
    "df_geopandas.sort_values(by='mobility_workplaces').tail(5)"
   ]
  },
  {
   "cell_type": "markdown",
   "metadata": {},
   "source": [
    "# Regression analysis"
   ]
  },
  {
   "cell_type": "code",
   "execution_count": 35,
   "metadata": {},
   "outputs": [],
   "source": [
    "df = pd.read_pickle(r'data/df.pkl')"
   ]
  },
  {
   "cell_type": "code",
   "execution_count": 36,
   "metadata": {},
   "outputs": [],
   "source": [
    "import statsmodels.formula.api as smf"
   ]
  },
  {
   "cell_type": "code",
   "execution_count": 37,
   "metadata": {},
   "outputs": [],
   "source": [
    "mobility_measures = [x for x in df.columns if 'mobility_' in x]\n",
    "workforce_measures = ['managers', 'professional', 'associate', 'administrative','skilled_trades',\n",
    "                     'caring', 'sales', 'process', 'elementary']\n",
    "\n",
    "age_measures = ['share_65','Age 0 to 4', 'Age 5 to 7',\n",
    "       'Age 8 to 9', 'Age 10 to 14', 'Age 15', 'Age 16 to 17', 'Age 18 to 19',\n",
    "       'Age 20 to 24', 'Age 25 to 29', 'Age 30 to 44', 'Age 45 to 59',\n",
    "       'Age 60 to 64', 'Age 65 to 74', 'Age 75 to 84', 'Age 85 to 89',\n",
    "       'Age 90 and over','population_density']\n",
    "weather_measures = [ 'average_temperature','rainfall', 'latitude', 'longitude']\n",
    "df['population_density'] = pd.to_numeric(df['population_density'])"
   ]
  },
  {
   "cell_type": "code",
   "execution_count": 42,
   "metadata": {},
   "outputs": [],
   "source": [
    "#table with decriptive statistics\n",
    "list_descriptives = ['mobility_workplaces']+workforce_measures+['share_65','population_density']\\\n",
    "+['average_temperature','rainfall']\n",
    "df[list_descriptives].describe().to_clipboard()"
   ]
  },
  {
   "cell_type": "code",
   "execution_count": 38,
   "metadata": {},
   "outputs": [
    {
     "name": "stdout",
     "output_type": "stream",
     "text": [
      "                             OLS Regression Results                            \n",
      "===============================================================================\n",
      "Dep. Variable:     mobility_workplaces   R-squared:                       0.756\n",
      "Model:                             OLS   Adj. R-squared:                  0.723\n",
      "Method:                  Least Squares   F-statistic:                     23.24\n",
      "Date:                 Mon, 11 Jan 2021   Prob (F-statistic):           1.46e-22\n",
      "Time:                         18:48:56   Log-Likelihood:                -213.18\n",
      "No. Observations:                  103   AIC:                             452.4\n",
      "Df Residuals:                       90   BIC:                             486.6\n",
      "Df Model:                           12                                         \n",
      "Covariance Type:             nonrobust                                         \n",
      "============================================================================================\n",
      "                               coef    std err          t      P>|t|      [0.025      0.975]\n",
      "--------------------------------------------------------------------------------------------\n",
      "Intercept                  -62.4233     12.726     -4.905      0.000     -87.705     -37.142\n",
      "Q(\"managers\")               -0.2706      0.173     -1.562      0.122      -0.615       0.074\n",
      "Q(\"professional\")           -0.3505      0.131     -2.667      0.009      -0.612      -0.089\n",
      "Q(\"associate\")              -0.2256      0.157     -1.438      0.154      -0.537       0.086\n",
      "Q(\"administrative\")         -0.0711      0.178     -0.398      0.691      -0.425       0.283\n",
      "Q(\"caring\")                  0.2161      0.198      1.093      0.278      -0.177       0.609\n",
      "Q(\"sales\")                   0.1481      0.200      0.741      0.461      -0.249       0.545\n",
      "Q(\"process\")                 0.4617      0.208      2.218      0.029       0.048       0.875\n",
      "Q(\"elementary\")             -0.1443      0.172     -0.841      0.403      -0.485       0.197\n",
      "Q(\"share_65\")                0.1298      0.115      1.125      0.264      -0.099       0.359\n",
      "Q(\"population_density\")     -0.0006      0.000     -2.843      0.006      -0.001      -0.000\n",
      "Q(\"average_temperature\")     0.7832      0.408      1.921      0.058      -0.027       1.593\n",
      "Q(\"rainfall\")               -2.1415      1.347     -1.590      0.115      -4.817       0.534\n",
      "==============================================================================\n",
      "Omnibus:                        7.135   Durbin-Watson:                   2.032\n",
      "Prob(Omnibus):                  0.028   Jarque-Bera (JB):               10.378\n",
      "Skew:                           0.266   Prob(JB):                      0.00558\n",
      "Kurtosis:                       4.461   Cond. No.                     1.28e+05\n",
      "==============================================================================\n",
      "\n",
      "Warnings:\n",
      "[1] Standard Errors assume that the covariance matrix of the errors is correctly specified.\n",
      "[2] The condition number is large, 1.28e+05. This might indicate that there are\n",
      "strong multicollinearity or other numerical problems.\n"
     ]
    }
   ],
   "source": [
    "dependent_variable='mobility_workplaces'\n",
    "explanatory_variables=workforce_measures+['share_65','population_density']+['average_temperature','rainfall']\n",
    "explanatory_variables.remove('skilled_trades')\n",
    "explanatory_variables=['Q(\"{0}\")'.format(x) for x in explanatory_variables]\n",
    "\n",
    "ols = smf.ols(r'{0}'.format(dependent_variable)+ '~{0}'\\\n",
    "              .format('+ '.join(explanatory_variables)), df).fit()\n",
    "print(ols.summary())"
   ]
  },
  {
   "cell_type": "code",
   "execution_count": 50,
   "metadata": {},
   "outputs": [
    {
     "data": {
      "text/plain": [
       "<matplotlib.legend.Legend at 0x14e7e620940>"
      ]
     },
     "execution_count": 50,
     "metadata": {},
     "output_type": "execute_result"
    },
    {
     "data": {
      "image/png": "[encoded data removed]",
      "text/plain": [
       "<Figure size 432x288 with 1 Axes>"
      ]
     },
     "metadata": {},
     "output_type": "display_data"
    }
   ],
   "source": [
    "dependent_variable = 'mobility_workplaces'\n",
    "explanatory_variable = 'professional'\n",
    "\n",
    "ols = smf.ols(r'{0}'.format(dependent_variable)+ '~{0}'\\\n",
    "                    .format('Q(\"{0}\")'.format(explanatory_variable)),\\\n",
    "                  df.dropna(subset=[dependent_variable]+[explanatory_variable])).fit()\n",
    "intercept, slope, r_value = ols.params[0], ols.params[1], ols.rsquared_adj\n",
    "    \n",
    "ax = sns.regplot(x=explanatory_variable, y=dependent_variable, data=df.dropna(subset=[dependent_variable]+[explanatory_variable]), \n",
    "                 line_kws={'label':\"y={0:.1f}{1:.1f}x, R2={2:.2f}\".format(\\\n",
    "                                intercept, slope, r_value)}, )\n",
    "ax.legend()"
   ]
  },
  {
   "cell_type": "code",
   "execution_count": 51,
   "metadata": {},
   "outputs": [],
   "source": [
    "ols = smf.ols(r'{0}'.format(dependent_variable)+ '~{0}'\\\n",
    "                    .format('Q(\"{0}\")'.format(explanatory_variable)),\\\n",
    "                  df.dropna(subset=[dependent_variable]+[explanatory_variable])).fit()"
   ]
  },
  {
   "cell_type": "code",
   "execution_count": 52,
   "metadata": {},
   "outputs": [
    {
     "name": "stdout",
     "output_type": "stream",
     "text": [
      "                             OLS Regression Results                            \n",
      "===============================================================================\n",
      "Dep. Variable:     mobility_workplaces   R-squared:                       0.662\n",
      "Model:                             OLS   Adj. R-squared:                  0.659\n",
      "Method:                  Least Squares   F-statistic:                     197.9\n",
      "Date:                 Mon, 11 Jan 2021   Prob (F-statistic):           1.56e-25\n",
      "Time:                         18:55:56   Log-Likelihood:                -229.96\n",
      "No. Observations:                  103   AIC:                             463.9\n",
      "Df Residuals:                      101   BIC:                             469.2\n",
      "Df Model:                            1                                         \n",
      "Covariance Type:             nonrobust                                         \n",
      "=====================================================================================\n",
      "                        coef    std err          t      P>|t|      [0.025      0.975]\n",
      "-------------------------------------------------------------------------------------\n",
      "Intercept           -49.3647      1.022    -48.294      0.000     -51.392     -47.337\n",
      "Q(\"professional\")    -0.7014      0.050    -14.066      0.000      -0.800      -0.602\n",
      "==============================================================================\n",
      "Omnibus:                        2.609   Durbin-Watson:                   1.944\n",
      "Prob(Omnibus):                  0.271   Jarque-Bera (JB):                2.063\n",
      "Skew:                           0.327   Prob(JB):                        0.356\n",
      "Kurtosis:                       3.230   Cond. No.                         93.5\n",
      "==============================================================================\n",
      "\n",
      "Warnings:\n",
      "[1] Standard Errors assume that the covariance matrix of the errors is correctly specified.\n"
     ]
    }
   ],
   "source": [
    "print(ols.summary())"
   ]
  },
  {
   "cell_type": "code",
   "execution_count": null,
   "metadata": {},
   "outputs": [],
   "source": []
  }
 ],
 "metadata": {
  "kernelspec": {
   "display_name": "Python 3",
   "language": "python",
   "name": "python3"
  },
  "language_info": {
   "codemirror_mode": {
    "name": "ipython",
    "version": 3
   },
   "file_extension": ".py",
   "mimetype": "text/x-python",
   "name": "python",
   "nbconvert_exporter": "python",
   "pygments_lexer": "ipython3",
   "version": "3.7.1"
  },
  "toc": {
   "base_numbering": 1,
   "nav_menu": {},
   "number_sections": true,
   "sideBar": true,
   "skip_h1_title": false,
   "title_cell": "Table of Contents",
   "title_sidebar": "Contents",
   "toc_cell": false,
   "toc_position": {},
   "toc_section_display": true,
   "toc_window_display": false
  }
 },
 "nbformat": 4,
 "nbformat_minor": 2
}
